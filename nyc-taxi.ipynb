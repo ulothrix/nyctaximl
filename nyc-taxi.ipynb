{
 "cells": [
  {
   "cell_type": "markdown",
   "metadata": {},
   "source": [
    "# NYC Taxi Veri Analizi\n",
    "\n",
    "## Kolon Bilgileri\n",
    "\n",
    "### VendorID \n",
    "Kaydı sağlayan şirket ID (1= Creative Mobile Technologies, LLC; 2= VeriFone Inc.)\n",
    "### tpep_pickup_datetime\n",
    "Taksi metrenin açılma tarihi ve saati\n",
    "### tpep_dropoff_datetime\n",
    "Taksi metrenin kapanma tarihi ve saati\n",
    "### passenger_count \n",
    "Taksi şoförü tarafından girilen yolcu sayısı\n",
    "### trip_distance\n",
    "Taksimetre tarafından tutulan tahmini katedilen mesafe (mil)\n",
    "### RatecodeID\n",
    "Yolculuk sonunda geçerli olan son fiyat kodu\n",
    "1=Standard rate\n",
    "2=JFK\n",
    "3=Newark\n",
    "4=Nassau or Westchester\n",
    "5=Negotiated fare\n",
    "6=Group ride\n",
    "### store_and_fwd_flag\n",
    "Yolculuk kaydının tedarikçilere gönderilmeden önce taşıtlardaki cihazlarda tutulup tutulmadığını belirten flag\n",
    "Y= store and forward trip\n",
    "N= not a store and forward trip\n",
    "### PULocationID\n",
    "Taksimetrenin açıldığı bölge\n",
    "### DOLocationID\n",
    "Taksimetrenin kapatıldığı bölge\n",
    "### payment_type\n",
    "Yolcunun ödemeyi nasıl yaptığını belirten numerik bir kod\n",
    "1= Kredi Kartı (Credit card)\n",
    "2= Nakit (Cash)\n",
    "3= Ücretsiz (No charge)\n",
    "4= İtiraz (Dispute)\n",
    "5= Bilinmeyen (Unknown)\n",
    "6= Geçersiz Seyahat (Voided trip)\n",
    "### fare_amount\n",
    "Taksimetrenin zaman/mesafe ücreti\n",
    "### extra\n",
    "Extra giderler\n",
    "### mta_tax\n",
    "Tetiklenen MTA vergisi\n",
    "### tip_amount\n",
    "Kredi kartı ile verile bahşişler (nakitler dahil edilmemiştir)\n",
    "### tolls_amount\n",
    "Yolculuk boyunca verilen geçiş ücretleri\n",
    "### improvement_surcharge\n",
    "İlave maliyetler\n",
    "### total_amount\n",
    "Yolcuya toplamda yolculuğun maliyeti (nakit bahşişler dahil değildir)"
   ]
  },
  {
   "cell_type": "code",
   "execution_count": 1,
   "metadata": {
    "scrolled": true
   },
   "outputs": [],
   "source": [
    "import tensorflow as tf\n",
    "import tensorflow.keras as keras\n",
    "import pandas as pd\n",
    "import numpy as np\n",
    "import matplotlib.pyplot as plt\n",
    "import functions as fonk\n",
    "# from scipy.stats import norm\n",
    "# import matplotlib.mlab as mlab\n",
    "from sklearn.preprocessing import MinMaxScaler\n",
    "# from sklearn.model_selection import train_test_split\n",
    "%matplotlib inline\n",
    "\n",
    "np.random.seed(101)"
   ]
  },
  {
   "cell_type": "code",
   "execution_count": 3,
   "metadata": {
    "scrolled": true
   },
   "outputs": [],
   "source": [
    "# datamiz = pd.read_csv('yellow_tripdata_2017-12.csv')"
   ]
  },
  {
   "cell_type": "code",
   "execution_count": 4,
   "metadata": {
    "scrolled": true
   },
   "outputs": [],
   "source": [
    "# datamiz.head(300)"
   ]
  },
  {
   "cell_type": "code",
   "execution_count": 5,
   "metadata": {
    "scrolled": true
   },
   "outputs": [],
   "source": [
    "# tarihler = pd.to_datetime(datamiz.tpep_pickup_datetime)\n",
    "# tarihler.count()\n",
    "# 9,508,276 kayıt vardır."
   ]
  },
  {
   "cell_type": "markdown",
   "metadata": {},
   "source": [
    "## Pazartesi günlerinin tek bir DataFrame'de toplanması"
   ]
  },
  {
   "cell_type": "code",
   "execution_count": 6,
   "metadata": {},
   "outputs": [],
   "source": [
    "# start_date = pd.Timestamp('2017-12-04 00:00:00')\n",
    "# end_date = pd.Timestamp('2017-12-04 23:59:59')\n",
    "# mask = (tarihler> start_date) & (tarihler <= end_date)\n",
    "\n",
    "# start_date = pd.Timestamp('2017-12-11 00:00:00')\n",
    "# end_date = pd.Timestamp('2017-12-11 23:59:59')\n",
    "# mask+= (tarihler> start_date) & (tarihler <= end_date)\n",
    "\n",
    "# start_date = pd.Timestamp('2017-12-18 00:00:00')\n",
    "# end_date = pd.Timestamp('2017-12-18 23:59:59')\n",
    "# mask+= (tarihler> start_date) & (tarihler <= end_date)\n",
    "\n",
    "# #    Test Pazartesi\n",
    "# start_date = pd.Timestamp('2017-12-25 00:00:00')\n",
    "# end_date = pd.Timestamp('2017-12-25 23:59:59')\n",
    "# mask2= (tarihler> start_date) & (tarihler <= end_date)\n",
    "\n",
    "# train_pazartesi = datamiz.loc[mask]\n",
    "# test_pazartesi = datamiz.loc[mask2]\n",
    "# train_pazartesi.to_csv('train_pazartesi.csv')\n",
    "# test_pazartesi.to_csv('test_pazartesi.csv')"
   ]
  },
  {
   "cell_type": "markdown",
   "metadata": {},
   "source": [
    "### Train Verisi"
   ]
  },
  {
   "cell_type": "code",
   "execution_count": 7,
   "metadata": {},
   "outputs": [],
   "source": [
    "train_pazartesi = pd.read_csv('train_pazartesi.csv')\n",
    "train_pazartesi = train_pazartesi.sort_values('tpep_pickup_datetime')\n",
    "\n",
    "# # Düzgün bir index sıralaması alıyoruz\n",
    "train_pazartesi = fonk.reindexing(train_pazartesi)\n",
    "\n",
    "train_pazartesi['tpep_pickup_datetime'] = pd.to_datetime(train_pazartesi['tpep_pickup_datetime'])\n",
    "train_pazartesi = fonk.splitDateTime(train_pazartesi)"
   ]
  },
  {
   "cell_type": "code",
   "execution_count": 8,
   "metadata": {},
   "outputs": [],
   "source": [
    "# train_pazartesi.head()"
   ]
  },
  {
   "cell_type": "code",
   "execution_count": 9,
   "metadata": {},
   "outputs": [],
   "source": [
    "# TRAIN için\n",
    "# istenilen saat aralığını alıyoruz ve günlere bölüyoruz\n",
    "train_dort_aralik_oglen = fonk.oglen('2017-12-04 11:59:59','2017-12-04 13:00:00',train_pazartesi)\n",
    "train_onbir_aralik_oglen = fonk.oglen('2017-12-11 11:59:59','2017-12-11 13:00:00',train_pazartesi)\n",
    "train_onsekiz_aralik_oglen = fonk.oglen('2017-12-18 11:59:59','2017-12-18 13:00:00',train_pazartesi)\n",
    "\n",
    "train_tum_oglen = fonk.alloglen(train_dort_aralik_oglen,train_onbir_aralik_oglen,train_onsekiz_aralik_oglen)\n",
    "\n",
    "train_tum_oglen = train_tum_oglen.sort_values('Time')\n",
    "train_tum_oglen = fonk.reindexing(train_tum_oglen)\n"
   ]
  },
  {
   "cell_type": "code",
   "execution_count": 10,
   "metadata": {},
   "outputs": [],
   "source": [
    "# train_tum_oglen.head()"
   ]
  },
  {
   "cell_type": "markdown",
   "metadata": {},
   "source": [
    "### Test Verisi"
   ]
  },
  {
   "cell_type": "code",
   "execution_count": 11,
   "metadata": {
    "scrolled": false
   },
   "outputs": [],
   "source": [
    "test_pazartesi = pd.read_csv('test_pazartesi.csv')\n",
    "test_pazartesi = test_pazartesi.sort_values('tpep_pickup_datetime')\n",
    "\n",
    "# Düzgün bir index sıralaması alıyoruz\n",
    "test_pazartesi = fonk.reindexing(test_pazartesi)\n",
    "\n",
    "test_pazartesi['tpep_pickup_datetime'] = pd.to_datetime(test_pazartesi['tpep_pickup_datetime'])\n",
    "test_pazartesi = fonk.splitDateTime(test_pazartesi)"
   ]
  },
  {
   "cell_type": "code",
   "execution_count": 12,
   "metadata": {},
   "outputs": [],
   "source": [
    "# test_pazartesi.head()"
   ]
  },
  {
   "cell_type": "code",
   "execution_count": 13,
   "metadata": {
    "scrolled": false
   },
   "outputs": [],
   "source": [
    "# TEST için\n",
    "# istenilen saat aralığını alıyoruz ve günlere bölüyoruz\n",
    "test_yirmibes_aralik_oglen = fonk.oglen('2017-12-25 11:59:59','2017-12-25 13:00:00',test_pazartesi)\n",
    "\n",
    "test_yirmibes_aralik_oglen = test_yirmibes_aralik_oglen.sort_values('Time')\n",
    "test_yirmibes_aralik_oglen = fonk.reindexing(test_yirmibes_aralik_oglen)"
   ]
  },
  {
   "cell_type": "code",
   "execution_count": 14,
   "metadata": {},
   "outputs": [],
   "source": [
    "# test_yirmibes_aralik_oglen.head()"
   ]
  },
  {
   "cell_type": "code",
   "execution_count": 14,
   "metadata": {
    "scrolled": false
   },
   "outputs": [],
   "source": [
    "# 04 Aralık, 11 Aralık ve 18 Aralık Pazartesi günleri için 913,005 tane kayıt vardır.\n",
    "# train_pazartesi.shape"
   ]
  },
  {
   "cell_type": "code",
   "execution_count": 15,
   "metadata": {
    "scrolled": true
   },
   "outputs": [],
   "source": [
    "# test_pazartesi.shape"
   ]
  },
  {
   "cell_type": "code",
   "execution_count": 16,
   "metadata": {
    "scrolled": false
   },
   "outputs": [],
   "source": [
    "# test_pazartesi.dtypes"
   ]
  },
  {
   "cell_type": "code",
   "execution_count": 17,
   "metadata": {},
   "outputs": [],
   "source": [
    "# test_pazartesi"
   ]
  },
  {
   "cell_type": "code",
   "execution_count": 18,
   "metadata": {},
   "outputs": [],
   "source": [
    "# train_pazartesi[train_pazartesi.total_amount>99]"
   ]
  },
  {
   "cell_type": "code",
   "execution_count": 19,
   "metadata": {
    "scrolled": true
   },
   "outputs": [],
   "source": [
    "# train_pazartesi.head(200)"
   ]
  },
  {
   "cell_type": "code",
   "execution_count": 20,
   "metadata": {
    "scrolled": true
   },
   "outputs": [],
   "source": [
    "# train_pazartesi.describe().transpose()"
   ]
  },
  {
   "cell_type": "code",
   "execution_count": 159,
   "metadata": {
    "scrolled": false
   },
   "outputs": [
    {
     "data": {
      "text/html": [
       "<div>\n",
       "<style scoped>\n",
       "    .dataframe tbody tr th:only-of-type {\n",
       "        vertical-align: middle;\n",
       "    }\n",
       "\n",
       "    .dataframe tbody tr th {\n",
       "        vertical-align: top;\n",
       "    }\n",
       "\n",
       "    .dataframe thead th {\n",
       "        text-align: right;\n",
       "    }\n",
       "</style>\n",
       "<table border=\"1\" class=\"dataframe\">\n",
       "  <thead>\n",
       "    <tr style=\"text-align: right;\">\n",
       "      <th></th>\n",
       "      <th>VendorID</th>\n",
       "      <th>tpep_pickup_datetime</th>\n",
       "      <th>tpep_dropoff_datetime</th>\n",
       "      <th>passenger_count</th>\n",
       "      <th>trip_distance</th>\n",
       "      <th>RatecodeID</th>\n",
       "      <th>store_and_fwd_flag</th>\n",
       "      <th>PULocationID</th>\n",
       "      <th>DOLocationID</th>\n",
       "      <th>payment_type</th>\n",
       "      <th>fare_amount</th>\n",
       "      <th>extra</th>\n",
       "      <th>mta_tax</th>\n",
       "      <th>tip_amount</th>\n",
       "      <th>tolls_amount</th>\n",
       "      <th>improvement_surcharge</th>\n",
       "      <th>total_amount</th>\n",
       "    </tr>\n",
       "  </thead>\n",
       "  <tbody>\n",
       "    <tr>\n",
       "      <th>254177</th>\n",
       "      <td>1</td>\n",
       "      <td>2017-12-04 20:32:31</td>\n",
       "      <td>2017-12-04 20:49:07</td>\n",
       "      <td>1</td>\n",
       "      <td>5.7</td>\n",
       "      <td>1</td>\n",
       "      <td>N</td>\n",
       "      <td>137</td>\n",
       "      <td>255</td>\n",
       "      <td>2</td>\n",
       "      <td>19.0</td>\n",
       "      <td>0.5</td>\n",
       "      <td>0.5</td>\n",
       "      <td>0.0</td>\n",
       "      <td>900.09</td>\n",
       "      <td>0.3</td>\n",
       "      <td>920.39</td>\n",
       "    </tr>\n",
       "  </tbody>\n",
       "</table>\n",
       "</div>"
      ],
      "text/plain": [
       "        VendorID tpep_pickup_datetime tpep_dropoff_datetime  passenger_count  \\\n",
       "254177         1  2017-12-04 20:32:31   2017-12-04 20:49:07                1   \n",
       "\n",
       "        trip_distance  RatecodeID store_and_fwd_flag  PULocationID  \\\n",
       "254177            5.7           1                  N           137   \n",
       "\n",
       "        DOLocationID  payment_type  fare_amount  extra  mta_tax  tip_amount  \\\n",
       "254177           255             2         19.0    0.5      0.5         0.0   \n",
       "\n",
       "        tolls_amount  improvement_surcharge  total_amount  \n",
       "254177        900.09                    0.3        920.39  "
      ]
     },
     "execution_count": 159,
     "metadata": {},
     "output_type": "execute_result"
    }
   ],
   "source": [
    "# Max row\n",
    "# train_pazartesi.loc[[254177]]"
   ]
  },
  {
   "cell_type": "code",
   "execution_count": 160,
   "metadata": {
    "scrolled": true
   },
   "outputs": [
    {
     "data": {
      "text/html": [
       "<div>\n",
       "<style scoped>\n",
       "    .dataframe tbody tr th:only-of-type {\n",
       "        vertical-align: middle;\n",
       "    }\n",
       "\n",
       "    .dataframe tbody tr th {\n",
       "        vertical-align: top;\n",
       "    }\n",
       "\n",
       "    .dataframe thead th {\n",
       "        text-align: right;\n",
       "    }\n",
       "</style>\n",
       "<table border=\"1\" class=\"dataframe\">\n",
       "  <thead>\n",
       "    <tr style=\"text-align: right;\">\n",
       "      <th></th>\n",
       "      <th>VendorID</th>\n",
       "      <th>tpep_pickup_datetime</th>\n",
       "      <th>tpep_dropoff_datetime</th>\n",
       "      <th>passenger_count</th>\n",
       "      <th>trip_distance</th>\n",
       "      <th>RatecodeID</th>\n",
       "      <th>store_and_fwd_flag</th>\n",
       "      <th>PULocationID</th>\n",
       "      <th>DOLocationID</th>\n",
       "      <th>payment_type</th>\n",
       "      <th>fare_amount</th>\n",
       "      <th>extra</th>\n",
       "      <th>mta_tax</th>\n",
       "      <th>tip_amount</th>\n",
       "      <th>tolls_amount</th>\n",
       "      <th>improvement_surcharge</th>\n",
       "      <th>total_amount</th>\n",
       "    </tr>\n",
       "  </thead>\n",
       "  <tbody>\n",
       "    <tr>\n",
       "      <th>592536</th>\n",
       "      <td>1</td>\n",
       "      <td>2017-12-11 22:26:55</td>\n",
       "      <td>2017-12-11 22:34:05</td>\n",
       "      <td>1</td>\n",
       "      <td>1.0</td>\n",
       "      <td>5</td>\n",
       "      <td>N</td>\n",
       "      <td>161</td>\n",
       "      <td>48</td>\n",
       "      <td>3</td>\n",
       "      <td>0.0</td>\n",
       "      <td>0.0</td>\n",
       "      <td>0.0</td>\n",
       "      <td>0.0</td>\n",
       "      <td>810.5</td>\n",
       "      <td>0.3</td>\n",
       "      <td>810.8</td>\n",
       "    </tr>\n",
       "  </tbody>\n",
       "</table>\n",
       "</div>"
      ],
      "text/plain": [
       "        VendorID tpep_pickup_datetime tpep_dropoff_datetime  passenger_count  \\\n",
       "592536         1  2017-12-11 22:26:55   2017-12-11 22:34:05                1   \n",
       "\n",
       "        trip_distance  RatecodeID store_and_fwd_flag  PULocationID  \\\n",
       "592536            1.0           5                  N           161   \n",
       "\n",
       "        DOLocationID  payment_type  fare_amount  extra  mta_tax  tip_amount  \\\n",
       "592536            48             3          0.0    0.0      0.0         0.0   \n",
       "\n",
       "        tolls_amount  improvement_surcharge  total_amount  \n",
       "592536         810.5                    0.3         810.8  "
      ]
     },
     "execution_count": 160,
     "metadata": {},
     "output_type": "execute_result"
    }
   ],
   "source": [
    "# train_pazartesi.loc[[592536]]"
   ]
  },
  {
   "cell_type": "markdown",
   "metadata": {},
   "source": [
    "# Verinin İncelenmesi "
   ]
  },
  {
   "cell_type": "markdown",
   "metadata": {},
   "source": [
    "## Train günlerini ayrı ayrı ayırıp incelemek"
   ]
  },
  {
   "cell_type": "markdown",
   "metadata": {},
   "source": [
    "### 4 Aralık 2017"
   ]
  },
  {
   "cell_type": "code",
   "execution_count": 161,
   "metadata": {},
   "outputs": [],
   "source": [
    "# start_date_dort_aralik = pd.Timestamp('2017-12-04 00:00:00')\n",
    "# end_date_dort_aralik = pd.Timestamp('2017-12-04 23:59:59')\n",
    "# df_daralik = (train_pazartesi['tpep_pickup_datetime']>start_date_dort_aralik) & (train_pazartesi['tpep_pickup_datetime']<end_date_dort_aralik)\n",
    "# dort_aralik_df = train_pazartesi.loc[df_daralik]"
   ]
  },
  {
   "cell_type": "code",
   "execution_count": 162,
   "metadata": {},
   "outputs": [],
   "source": [
    "# dort_aralik_df\n",
    "# dort_aralik_df.dtypes"
   ]
  },
  {
   "cell_type": "markdown",
   "metadata": {},
   "source": [
    "### 11 Aralık 2017"
   ]
  },
  {
   "cell_type": "code",
   "execution_count": 163,
   "metadata": {},
   "outputs": [],
   "source": [
    "# start_date_onbir_aralik = pd.Timestamp('2017-12-11 00:00:00')\n",
    "# end_date_onbir_aralik = pd.Timestamp('2017-12-11 23:59:59')\n",
    "# df_obaralik = (train_pazartesi['tpep_pickup_datetime']>start_date_onbir_aralik) & (train_pazartesi['tpep_pickup_datetime']<end_date_onbir_aralik)\n",
    "# onbir_aralik_df = train_pazartesi.loc[df_obaralik]"
   ]
  },
  {
   "cell_type": "code",
   "execution_count": 164,
   "metadata": {},
   "outputs": [],
   "source": [
    "# onbir_aralik_df\n",
    "# onbir_aralik_df.dtypes"
   ]
  },
  {
   "cell_type": "markdown",
   "metadata": {},
   "source": [
    "### 18 Aralık 2017"
   ]
  },
  {
   "cell_type": "code",
   "execution_count": 165,
   "metadata": {},
   "outputs": [],
   "source": [
    "# start_date_onsekiz_aralik = pd.Timestamp('2017-12-18 00:00:00')\n",
    "# end_date_onsekiz_aralik = pd.Timestamp('2017-12-18 23:59:59')\n",
    "# df_osaralik = (train_pazartesi['tpep_pickup_datetime']>start_date_onsekiz_aralik) & (train_pazartesi['tpep_pickup_datetime']<end_date_onsekiz_aralik)\n",
    "# onsekiz_aralik_df = train_pazartesi.loc[df_osaralik]"
   ]
  },
  {
   "cell_type": "code",
   "execution_count": 166,
   "metadata": {},
   "outputs": [],
   "source": [
    "# onsekiz_aralik_df\n",
    "# onbir_aralik_df.dtypes"
   ]
  },
  {
   "cell_type": "code",
   "execution_count": 167,
   "metadata": {},
   "outputs": [],
   "source": [
    "label_train = pd.DataFrame(data=train_pazartesi['total_amount'],columns=['total_amount'])\n",
    "total_amount = pd.DataFrame(data=train_pazartesi['total_amount'],columns=['total_amount'])\n",
    "\n",
    "payment_type = pd.DataFrame(data=train_pazartesi['payment_type'],columns=['payment_type'])\n",
    "tolls_amount = pd.DataFrame(data=train_pazartesi['tolls_amount'],columns=['tolls_amount'])\n",
    "trip_distance = pd.DataFrame(data=train_pazartesi['trip_distance'],columns=['trip_distance'])\n",
    "fare_amount = pd.DataFrame(data=train_pazartesi['fare_amount'],columns=['fare_amount'])\n",
    "pickup_location = pd.DataFrame(data=train_pazartesi['PULocationID'],columns=['PULocationID'])"
   ]
  },
  {
   "cell_type": "code",
   "execution_count": 168,
   "metadata": {},
   "outputs": [
    {
     "data": {
      "text/plain": [
       "total_amount    16.620112\n",
       "dtype: float64"
      ]
     },
     "execution_count": 168,
     "metadata": {},
     "output_type": "execute_result"
    }
   ],
   "source": [
    "# Pazartesileri ortalama kazanç\n",
    "label_train.mean()"
   ]
  },
  {
   "cell_type": "code",
   "execution_count": 169,
   "metadata": {},
   "outputs": [
    {
     "data": {
      "text/plain": [
       "total_amount    11.8\n",
       "dtype: float64"
      ]
     },
     "execution_count": 169,
     "metadata": {},
     "output_type": "execute_result"
    }
   ],
   "source": [
    "# Train datası içerisindeki tüm pazartesileri için median\n",
    "label_train.median()"
   ]
  },
  {
   "cell_type": "markdown",
   "metadata": {},
   "source": [
    "### Anomaliler"
   ]
  },
  {
   "cell_type": "code",
   "execution_count": 170,
   "metadata": {},
   "outputs": [
    {
     "data": {
      "text/html": [
       "<div>\n",
       "<style scoped>\n",
       "    .dataframe tbody tr th:only-of-type {\n",
       "        vertical-align: middle;\n",
       "    }\n",
       "\n",
       "    .dataframe tbody tr th {\n",
       "        vertical-align: top;\n",
       "    }\n",
       "\n",
       "    .dataframe thead th {\n",
       "        text-align: right;\n",
       "    }\n",
       "</style>\n",
       "<table border=\"1\" class=\"dataframe\">\n",
       "  <thead>\n",
       "    <tr style=\"text-align: right;\">\n",
       "      <th></th>\n",
       "      <th>total_amount</th>\n",
       "    </tr>\n",
       "  </thead>\n",
       "  <tbody>\n",
       "    <tr>\n",
       "      <th>254177</th>\n",
       "      <td>920.39</td>\n",
       "    </tr>\n",
       "  </tbody>\n",
       "</table>\n",
       "</div>"
      ],
      "text/plain": [
       "        total_amount\n",
       "254177        920.39"
      ]
     },
     "execution_count": 170,
     "metadata": {},
     "output_type": "execute_result"
    }
   ],
   "source": [
    "# Max tutar\n",
    "label_train.idxmax() # en büyük değerin indexini verir\n",
    "label_train.loc[[254177]] # id ile erişim."
   ]
  },
  {
   "cell_type": "code",
   "execution_count": 171,
   "metadata": {},
   "outputs": [
    {
     "data": {
      "text/html": [
       "<div>\n",
       "<style scoped>\n",
       "    .dataframe tbody tr th:only-of-type {\n",
       "        vertical-align: middle;\n",
       "    }\n",
       "\n",
       "    .dataframe tbody tr th {\n",
       "        vertical-align: top;\n",
       "    }\n",
       "\n",
       "    .dataframe thead th {\n",
       "        text-align: right;\n",
       "    }\n",
       "</style>\n",
       "<table border=\"1\" class=\"dataframe\">\n",
       "  <thead>\n",
       "    <tr style=\"text-align: right;\">\n",
       "      <th></th>\n",
       "      <th>total_amount</th>\n",
       "    </tr>\n",
       "  </thead>\n",
       "  <tbody>\n",
       "    <tr>\n",
       "      <th>592536</th>\n",
       "      <td>810.8</td>\n",
       "    </tr>\n",
       "  </tbody>\n",
       "</table>\n",
       "</div>"
      ],
      "text/plain": [
       "        total_amount\n",
       "592536         810.8"
      ]
     },
     "execution_count": 171,
     "metadata": {},
     "output_type": "execute_result"
    }
   ],
   "source": [
    "label_train[label_train.total_amount<900].idxmax()\n",
    "label_train.loc[[592536]]"
   ]
  },
  {
   "cell_type": "markdown",
   "metadata": {},
   "source": [
    "### İlk 200 Verinin Ücret Dağılımı (Sadece Pazartesi günleri)"
   ]
  },
  {
   "cell_type": "code",
   "execution_count": 172,
   "metadata": {
    "scrolled": true
   },
   "outputs": [
    {
     "data": {
      "text/plain": [
       "Text(0,0.5,'Ücret')"
      ]
     },
     "execution_count": 172,
     "metadata": {},
     "output_type": "execute_result"
    },
    {
     "data": {
      "image/png": "[encoded data removed]",
      "text/plain": [
       "<Figure size 432x288 with 1 Axes>"
      ]
     },
     "metadata": {},
     "output_type": "display_data"
    }
   ],
   "source": [
    "plt.plot(train_pazartesi['tpep_pickup_datetime'].head(200),label_train.head(200),'ro')\n",
    "plt.title(\"Sadece Pazartesi günü harcama dağılımı\")\n",
    "plt.xlabel('04-11-18 Aralık Pazartesi gün boyu')\n",
    "plt.ylabel('Ücret')"
   ]
  },
  {
   "cell_type": "markdown",
   "metadata": {},
   "source": [
    "### İlk 200 Verinin Ödeme tipi ve Ücretler İlişkisi\n",
    "#### 1 = Kredi Kartı, 2 = Nakit, 3 = Ücretsiz"
   ]
  },
  {
   "cell_type": "code",
   "execution_count": 173,
   "metadata": {
    "scrolled": false
   },
   "outputs": [
    {
     "data": {
      "text/plain": [
       "([<matplotlib.axis.YTick at 0x7f090c590cf8>,\n",
       "  <matplotlib.axis.YTick at 0x7f09197030f0>,\n",
       "  <matplotlib.axis.YTick at 0x7f090bcb32e8>,\n",
       "  <matplotlib.axis.YTick at 0x7f090ab67da0>,\n",
       "  <matplotlib.axis.YTick at 0x7f090ab67a90>,\n",
       "  <matplotlib.axis.YTick at 0x7f090bb84ac8>],\n",
       " <a list of 6 Text yticklabel objects>)"
      ]
     },
     "execution_count": 173,
     "metadata": {},
     "output_type": "execute_result"
    },
    {
     "data": {
      "image/png": "[encoded data removed]",
      "text/plain": [
       "<Figure size 432x288 with 1 Axes>"
      ]
     },
     "metadata": {},
     "output_type": "display_data"
    }
   ],
   "source": [
    "plt.plot(train_pazartesi['total_amount'].head(200),payment_type.head(200),'bo',label=\"Ücret\")\n",
    "plt.title(\"Ödeme tipi ve ücretler ilişkisi\")\n",
    "plt.legend()\n",
    "plt.xlabel('Ücret')\n",
    "plt.ylabel('Ödeme Tipi')\n",
    "plt.yticks(np.arange(0, 6, step=1))"
   ]
  },
  {
   "cell_type": "markdown",
   "metadata": {},
   "source": [
    "### İlk 200 Verinin Toplam Miktar & Geçiş Ücreti İlişkisi"
   ]
  },
  {
   "cell_type": "code",
   "execution_count": 174,
   "metadata": {
    "scrolled": true
   },
   "outputs": [
    {
     "data": {
      "text/plain": [
       "Text(0,0.5,'Geçiş Ücreti')"
      ]
     },
     "execution_count": 174,
     "metadata": {},
     "output_type": "execute_result"
    },
    {
     "data": {
      "image/png": "[encoded data removed]",
      "text/plain": [
       "<Figure size 432x288 with 1 Axes>"
      ]
     },
     "metadata": {},
     "output_type": "display_data"
    }
   ],
   "source": [
    "plt.plot(train_pazartesi['total_amount'].head(200),tolls_amount.head(200),'go',label=\"Ücret\")\n",
    "plt.title(\"Toplam Miktar & Geçiş Ücreti İlişkisi\")\n",
    "plt.legend()\n",
    "plt.xlabel('Ücret')\n",
    "plt.ylabel('Geçiş Ücreti')"
   ]
  },
  {
   "cell_type": "markdown",
   "metadata": {},
   "source": [
    "### İlk 200 Verinin Toplam Miktar & Katedilen Yol İlişkisi"
   ]
  },
  {
   "cell_type": "code",
   "execution_count": 175,
   "metadata": {
    "scrolled": false
   },
   "outputs": [
    {
     "data": {
      "text/plain": [
       "Text(0,0.5,'Mesafe')"
      ]
     },
     "execution_count": 175,
     "metadata": {},
     "output_type": "execute_result"
    },
    {
     "data": {
      "image/png": "[encoded data removed]",
      "text/plain": [
       "<Figure size 432x288 with 1 Axes>"
      ]
     },
     "metadata": {},
     "output_type": "display_data"
    }
   ],
   "source": [
    "plt.plot(total_amount.head(200),trip_distance.head(200),'ko',label=\"Ücret\")\n",
    "plt.title(\"Toplam Miktar & Katedilen Yol İlişkisi\")\n",
    "plt.legend()\n",
    "plt.xlabel('Ücret')\n",
    "plt.ylabel('Mesafe')"
   ]
  },
  {
   "cell_type": "code",
   "execution_count": 176,
   "metadata": {},
   "outputs": [
    {
     "data": {
      "text/plain": [
       "Text(0,0.5,'Konum ID')"
      ]
     },
     "execution_count": 176,
     "metadata": {},
     "output_type": "execute_result"
    },
    {
     "data": {
      "image/png": "[encoded data removed]",
      "text/plain": [
       "<Figure size 432x288 with 1 Axes>"
      ]
     },
     "metadata": {},
     "output_type": "display_data"
    }
   ],
   "source": [
    "plt.plot(train_pazartesi['tpep_pickup_datetime'].head(1000),pickup_location.head(1000),'yo',label=\"Konum ID\")\n",
    "plt.title(\"Konum ve saatlere göre pick up dağılımı\")\n",
    "plt.legend()\n",
    "plt.xlabel('Pazartesi 00:00-23:59 arası')\n",
    "plt.ylabel('Konum ID')"
   ]
  },
  {
   "cell_type": "markdown",
   "metadata": {},
   "source": [
    "## 1 - Kayıt tahmin sınıflandırma hücresi (12:00-13:00 arası için)"
   ]
  },
  {
   "cell_type": "code",
   "execution_count": 10,
   "metadata": {
    "scrolled": true
   },
   "outputs": [],
   "source": [
    "# Train datası içerisindeki 0'dan küçük görünen verilerin temizlenmesi \n",
    "train_x = pd.DataFrame(data=train_tum_oglen)\n",
    "train_x = train_x[train_x.total_amount>0] \n",
    "train_y = train_x['VendorID'].apply(fonk.label_fix)\n",
    "\n",
    "train_x = train_x.drop('VendorID',axis=1)\n",
    "train_x = train_x.drop('tpep_pickup_datetime',axis=1)\n",
    "train_x = train_x.drop('tpep_dropoff_datetime',axis=1)\n",
    "\n",
    "# Test datası içerisindeki 0'dan küçük görünen verilerin temizlenmesi \n",
    "test_x = pd.DataFrame(data=test_yirmibes_aralik_oglen)\n",
    "test_x = test_x[test_x.total_amount>0]\n",
    "test_y = test_x['VendorID'].apply(fonk.label_fix)\n",
    "\n",
    "test_x = test_x.drop('VendorID',axis=1)\n",
    "test_x = test_x.drop('tpep_pickup_datetime',axis=1)\n",
    "test_x = test_x.drop('tpep_dropoff_datetime',axis=1)\n",
    "\n",
    "# 'N' 'Y' değerlerinden kurtulmak için integera çeviriyoruz\n",
    "train_x['store_and_fwd_flag'] = train_x['store_and_fwd_flag'].apply(fonk.label_keras_fix)\n",
    "test_x['store_and_fwd_flag'] = test_x['store_and_fwd_flag'].apply(fonk.label_keras_fix)\n",
    "\n",
    "train_x = train_x.drop('Date',axis=1)\n",
    "train_x = train_x.drop('Time',axis=1)\n",
    "test_x = test_x.drop('Date',axis=1)\n",
    "test_x = test_x.drop('Time',axis=1)\n",
    "\n",
    "col_to_norm = ['trip_distance', 'fare_amount','tip_amount', 'tolls_amount', 'total_amount']\n",
    "fonk.scaling(train_x,test_x,col_to_norm)"
   ]
  },
  {
   "cell_type": "code",
   "execution_count": 11,
   "metadata": {
    "scrolled": false
   },
   "outputs": [],
   "source": [
    "# test_x.head()"
   ]
  },
  {
   "cell_type": "code",
   "execution_count": 13,
   "metadata": {},
   "outputs": [],
   "source": [
    "# test_x.head()"
   ]
  },
  {
   "cell_type": "markdown",
   "metadata": {},
   "source": [
    "## 2 - Ücret tahmin problemi için regression hücresi (yine 12:00-13:00 arası)"
   ]
  },
  {
   "cell_type": "code",
   "execution_count": 15,
   "metadata": {
    "scrolled": true
   },
   "outputs": [],
   "source": [
    "reg_train_x = train_tum_oglen.drop('Date',axis=1).drop('total_amount',axis=1).drop('Time',axis=1).drop('tpep_pickup_datetime',axis=1).drop('tpep_dropoff_datetime',axis=1)\n",
    "reg_train_x['VendorID'] = reg_train_x['VendorID'].apply(fonk.label_fix)\n",
    "reg_train_x['store_and_fwd_flag'] = reg_train_x['store_and_fwd_flag'].apply(fonk.label_keras_fix)\n",
    "\n",
    "reg_train_y = pd.DataFrame(data=train_tum_oglen['total_amount'])"
   ]
  },
  {
   "cell_type": "code",
   "execution_count": 16,
   "metadata": {
    "scrolled": false
   },
   "outputs": [
    {
     "data": {
      "text/html": [
       "<div>\n",
       "<style scoped>\n",
       "    .dataframe tbody tr th:only-of-type {\n",
       "        vertical-align: middle;\n",
       "    }\n",
       "\n",
       "    .dataframe tbody tr th {\n",
       "        vertical-align: top;\n",
       "    }\n",
       "\n",
       "    .dataframe thead th {\n",
       "        text-align: right;\n",
       "    }\n",
       "</style>\n",
       "<table border=\"1\" class=\"dataframe\">\n",
       "  <thead>\n",
       "    <tr style=\"text-align: right;\">\n",
       "      <th></th>\n",
       "      <th>VendorID</th>\n",
       "      <th>passenger_count</th>\n",
       "      <th>trip_distance</th>\n",
       "      <th>RatecodeID</th>\n",
       "      <th>store_and_fwd_flag</th>\n",
       "      <th>PULocationID</th>\n",
       "      <th>DOLocationID</th>\n",
       "      <th>payment_type</th>\n",
       "      <th>fare_amount</th>\n",
       "      <th>extra</th>\n",
       "      <th>mta_tax</th>\n",
       "      <th>tip_amount</th>\n",
       "      <th>tolls_amount</th>\n",
       "      <th>improvement_surcharge</th>\n",
       "    </tr>\n",
       "    <tr>\n",
       "      <th>index</th>\n",
       "      <th></th>\n",
       "      <th></th>\n",
       "      <th></th>\n",
       "      <th></th>\n",
       "      <th></th>\n",
       "      <th></th>\n",
       "      <th></th>\n",
       "      <th></th>\n",
       "      <th></th>\n",
       "      <th></th>\n",
       "      <th></th>\n",
       "      <th></th>\n",
       "      <th></th>\n",
       "      <th></th>\n",
       "    </tr>\n",
       "  </thead>\n",
       "  <tbody>\n",
       "    <tr>\n",
       "      <th>0</th>\n",
       "      <td>0</td>\n",
       "      <td>1</td>\n",
       "      <td>2.60</td>\n",
       "      <td>1</td>\n",
       "      <td>0</td>\n",
       "      <td>163</td>\n",
       "      <td>186</td>\n",
       "      <td>1</td>\n",
       "      <td>18.0</td>\n",
       "      <td>0.0</td>\n",
       "      <td>0.5</td>\n",
       "      <td>4.00</td>\n",
       "      <td>0.0</td>\n",
       "      <td>0.3</td>\n",
       "    </tr>\n",
       "    <tr>\n",
       "      <th>1</th>\n",
       "      <td>1</td>\n",
       "      <td>3</td>\n",
       "      <td>1.84</td>\n",
       "      <td>1</td>\n",
       "      <td>0</td>\n",
       "      <td>79</td>\n",
       "      <td>170</td>\n",
       "      <td>2</td>\n",
       "      <td>11.5</td>\n",
       "      <td>0.0</td>\n",
       "      <td>0.5</td>\n",
       "      <td>0.00</td>\n",
       "      <td>0.0</td>\n",
       "      <td>0.3</td>\n",
       "    </tr>\n",
       "    <tr>\n",
       "      <th>2</th>\n",
       "      <td>0</td>\n",
       "      <td>1</td>\n",
       "      <td>2.30</td>\n",
       "      <td>1</td>\n",
       "      <td>0</td>\n",
       "      <td>236</td>\n",
       "      <td>41</td>\n",
       "      <td>1</td>\n",
       "      <td>11.5</td>\n",
       "      <td>0.0</td>\n",
       "      <td>0.5</td>\n",
       "      <td>0.00</td>\n",
       "      <td>0.0</td>\n",
       "      <td>0.3</td>\n",
       "    </tr>\n",
       "    <tr>\n",
       "      <th>3</th>\n",
       "      <td>1</td>\n",
       "      <td>3</td>\n",
       "      <td>1.41</td>\n",
       "      <td>1</td>\n",
       "      <td>0</td>\n",
       "      <td>144</td>\n",
       "      <td>232</td>\n",
       "      <td>1</td>\n",
       "      <td>8.0</td>\n",
       "      <td>0.0</td>\n",
       "      <td>0.5</td>\n",
       "      <td>1.76</td>\n",
       "      <td>0.0</td>\n",
       "      <td>0.3</td>\n",
       "    </tr>\n",
       "    <tr>\n",
       "      <th>4</th>\n",
       "      <td>0</td>\n",
       "      <td>1</td>\n",
       "      <td>1.20</td>\n",
       "      <td>1</td>\n",
       "      <td>0</td>\n",
       "      <td>136</td>\n",
       "      <td>235</td>\n",
       "      <td>2</td>\n",
       "      <td>6.5</td>\n",
       "      <td>0.0</td>\n",
       "      <td>0.5</td>\n",
       "      <td>0.00</td>\n",
       "      <td>0.0</td>\n",
       "      <td>0.3</td>\n",
       "    </tr>\n",
       "  </tbody>\n",
       "</table>\n",
       "</div>"
      ],
      "text/plain": [
       "       VendorID  passenger_count  trip_distance  RatecodeID  \\\n",
       "index                                                         \n",
       "0             0                1           2.60           1   \n",
       "1             1                3           1.84           1   \n",
       "2             0                1           2.30           1   \n",
       "3             1                3           1.41           1   \n",
       "4             0                1           1.20           1   \n",
       "\n",
       "       store_and_fwd_flag  PULocationID  DOLocationID  payment_type  \\\n",
       "index                                                                 \n",
       "0                       0           163           186             1   \n",
       "1                       0            79           170             2   \n",
       "2                       0           236            41             1   \n",
       "3                       0           144           232             1   \n",
       "4                       0           136           235             2   \n",
       "\n",
       "       fare_amount  extra  mta_tax  tip_amount  tolls_amount  \\\n",
       "index                                                          \n",
       "0             18.0    0.0      0.5        4.00           0.0   \n",
       "1             11.5    0.0      0.5        0.00           0.0   \n",
       "2             11.5    0.0      0.5        0.00           0.0   \n",
       "3              8.0    0.0      0.5        1.76           0.0   \n",
       "4              6.5    0.0      0.5        0.00           0.0   \n",
       "\n",
       "       improvement_surcharge  \n",
       "index                         \n",
       "0                        0.3  \n",
       "1                        0.3  \n",
       "2                        0.3  \n",
       "3                        0.3  \n",
       "4                        0.3  "
      ]
     },
     "execution_count": 16,
     "metadata": {},
     "output_type": "execute_result"
    }
   ],
   "source": [
    "reg_train_x.head()"
   ]
  },
  {
   "cell_type": "code",
   "execution_count": 17,
   "metadata": {},
   "outputs": [],
   "source": [
    "reg_test_x = test_yirmibes_aralik_oglen.drop('Date',axis=1).drop('total_amount',axis=1).drop('Time',axis=1).drop('tpep_pickup_datetime',axis=1).drop('tpep_dropoff_datetime',axis=1)\n",
    "reg_test_x['VendorID'] = reg_train_x['VendorID'].apply(fonk.label_fix)\n",
    "reg_test_x['store_and_fwd_flag'] = reg_test_x['store_and_fwd_flag'].apply(fonk.label_keras_fix)\n",
    "\n",
    "reg_test_y = pd.DataFrame(data=test_yirmibes_aralik_oglen['total_amount'])"
   ]
  },
  {
   "cell_type": "code",
   "execution_count": 18,
   "metadata": {
    "scrolled": true
   },
   "outputs": [],
   "source": [
    "# reg_test_x.head()"
   ]
  },
  {
   "cell_type": "code",
   "execution_count": 19,
   "metadata": {},
   "outputs": [],
   "source": [
    "# 0-1 aralığına çekiyoruz verileri\n",
    "col_to_norm = ['trip_distance', 'fare_amount','tip_amount']\n",
    "fonk.scaling(reg_train_x,reg_test_x,col_to_norm)\n",
    "\n",
    "reglabel_col_to_norm = ['total_amount']\n",
    "fonk.scaling(reg_train_y,reg_test_y,reglabel_col_to_norm)"
   ]
  },
  {
   "cell_type": "markdown",
   "metadata": {},
   "source": [
    "## 3 - Logistic Regression (Varış noktasına göre Başlangıç noktası tahmin etme)"
   ]
  },
  {
   "cell_type": "code",
   "execution_count": 163,
   "metadata": {},
   "outputs": [],
   "source": [
    "softmax_train_x = train_tum_oglen.drop('Date',axis=1).drop('Time',axis=1).drop('tpep_pickup_datetime',axis=1).drop('tpep_dropoff_datetime',axis=1)\n",
    "softmax_train_x['VendorID'] = reg_train_x['VendorID'].apply(fonk.label_fix)\n",
    "softmax_train_x['store_and_fwd_flag'] = reg_train_x['store_and_fwd_flag'].apply(fonk.label_keras_fix)\n",
    "\n",
    "softmax_train_y = pd.DataFrame(data=train_tum_oglen['PULocationID'])"
   ]
  },
  {
   "cell_type": "code",
   "execution_count": 164,
   "metadata": {},
   "outputs": [],
   "source": [
    "softmax_test_x = test_yirmibes_aralik_oglen.drop('Date',axis=1).drop('Time',axis=1).drop('tpep_pickup_datetime',axis=1).drop('tpep_dropoff_datetime',axis=1)\n",
    "softmax_test_x['VendorID'] = reg_train_x['VendorID'].apply(fonk.label_fix)\n",
    "softmax_test_x['store_and_fwd_flag'] = softmax_test_x['store_and_fwd_flag'].apply(fonk.label_keras_fix)\n",
    "\n",
    "softmax_test_y = pd.DataFrame(data=test_yirmibes_aralik_oglen['PULocationID'])"
   ]
  },
  {
   "cell_type": "code",
   "execution_count": 165,
   "metadata": {},
   "outputs": [],
   "source": [
    "# 0-1 aralığına çekiyoruz verileri\n",
    "col_to_norm = ['trip_distance', 'fare_amount','tip_amount', 'tolls_amount', 'total_amount']\n",
    "fonk.scaling(softmax_train_x,softmax_test_x,col_to_norm)\n",
    "label_cols_to_norm = ['PULocationID']\n",
    "fonk.scaling(softmax_train_y,softmax_test_y,label_cols_to_norm)"
   ]
  },
  {
   "cell_type": "markdown",
   "metadata": {},
   "source": [
    "# Estimator API"
   ]
  },
  {
   "cell_type": "code",
   "execution_count": 6,
   "metadata": {},
   "outputs": [],
   "source": [
    "# Continious / Numeric Değerler\n",
    "\n",
    "# pickup_datetime = tf.feature_column.numeric_column('tpep_pickup_datetime')\n",
    "# dropoff_datetime = tf.feature_column.numeric_column('tpep_dropoff_datetime')\n",
    "passenger_count = tf.feature_column.numeric_column('passenger_count')\n",
    "trip_distance = tf.feature_column.numeric_column('trip_distance')\n",
    "ratecode_id = tf.feature_column.numeric_column('RatecodeID')\n",
    "pu_loc_id = tf.feature_column.numeric_column('PULocationID')\n",
    "do_loc_id = tf.feature_column.numeric_column('DOLocationID')\n",
    "payment_type = tf.feature_column.numeric_column('payment_type')\n",
    "fare_amount = tf.feature_column.numeric_column('fare_amount')\n",
    "extra = tf.feature_column.numeric_column('extra')\n",
    "mta_tax = tf.feature_column.numeric_column('mta_tax')\n",
    "tip_amount = tf.feature_column.numeric_column('tip_amount')\n",
    "tolls_amount = tf.feature_column.numeric_column('tolls_amount')\n",
    "imp_scharge = tf.feature_column.numeric_column('improvement_surcharge')\n",
    "totalamount = tf.feature_column.numeric_column('total_amount')\n",
    "\n",
    "# Vocabulary List ile, diğer değerler\n",
    "\n",
    "store_and_fwd_flag = tf.feature_column.categorical_column_with_vocabulary_list('store_and_fwd_flag',['N','Y'])"
   ]
  },
  {
   "cell_type": "code",
   "execution_count": 7,
   "metadata": {
    "scrolled": false
   },
   "outputs": [
    {
     "data": {
      "text/plain": [
       "<matplotlib.axes._subplots.AxesSubplot at 0x7ff4e5e1cc50>"
      ]
     },
     "execution_count": 7,
     "metadata": {},
     "output_type": "execute_result"
    },
    {
     "data": {
      "image/png": "[encoded data removed]",
      "text/plain": [
       "<Figure size 432x288 with 1 Axes>"
      ]
     },
     "metadata": {},
     "output_type": "display_data"
    }
   ],
   "source": [
    "train_x['passenger_count'].hist(bins=10) # bin; bar kalınlığı için."
   ]
  },
  {
   "cell_type": "code",
   "execution_count": 8,
   "metadata": {
    "scrolled": false
   },
   "outputs": [],
   "source": [
    "# feature cols\n",
    "feat_cols = [passenger_count,trip_distance,ratecode_id,store_and_fwd_flag,\n",
    "             pu_loc_id,do_loc_id,payment_type,fare_amount,extra,mta_tax,tip_amount,tolls_amount,imp_scharge,\n",
    "             totalamount]\n",
    "\n",
    "# input function\n",
    "input_func = tf.estimator.inputs.pandas_input_fn(x=train_x,y=train_y,batch_size=100,\n",
    "                                                num_epochs=1000, shuffle=True)"
   ]
  },
  {
   "cell_type": "markdown",
   "metadata": {},
   "source": [
    "## Linear Classifier Estimator API"
   ]
  },
  {
   "cell_type": "code",
   "execution_count": 27,
   "metadata": {
    "scrolled": true
   },
   "outputs": [
    {
     "name": "stdout",
     "output_type": "stream",
     "text": [
      "INFO:tensorflow:Using default config.\n",
      "WARNING:tensorflow:Using temporary folder as model directory: /tmp/tmp2i3qi7u1\n",
      "INFO:tensorflow:Using config: {'_model_dir': '/tmp/tmp2i3qi7u1', '_tf_random_seed': None, '_save_summary_steps': 100, '_save_checkpoints_steps': None, '_save_checkpoints_secs': 600, '_session_config': None, '_keep_checkpoint_max': 5, '_keep_checkpoint_every_n_hours': 10000, '_log_step_count_steps': 100, '_train_distribute': None, '_device_fn': None, '_service': None, '_cluster_spec': <tensorflow.python.training.server_lib.ClusterSpec object at 0x7ff4e5782358>, '_task_type': 'worker', '_task_id': 0, '_global_id_in_cluster': 0, '_master': '', '_evaluation_master': '', '_is_chief': True, '_num_ps_replicas': 0, '_num_worker_replicas': 1}\n"
     ]
    }
   ],
   "source": [
    "model = tf.estimator.LinearClassifier(feature_columns=feat_cols,n_classes=2)"
   ]
  },
  {
   "cell_type": "code",
   "execution_count": 28,
   "metadata": {
    "scrolled": true
   },
   "outputs": [
    {
     "name": "stdout",
     "output_type": "stream",
     "text": [
      "INFO:tensorflow:Calling model_fn.\n",
      "INFO:tensorflow:Done calling model_fn.\n",
      "INFO:tensorflow:Create CheckpointSaverHook.\n",
      "INFO:tensorflow:Graph was finalized.\n",
      "INFO:tensorflow:Running local_init_op.\n",
      "INFO:tensorflow:Done running local_init_op.\n",
      "INFO:tensorflow:Saving checkpoints for 0 into /tmp/tmp2i3qi7u1/model.ckpt.\n",
      "INFO:tensorflow:loss = 69.31472, step = 1\n",
      "INFO:tensorflow:global_step/sec: 281.456\n",
      "INFO:tensorflow:loss = 139.6036, step = 101 (0.356 sec)\n",
      "INFO:tensorflow:global_step/sec: 364.722\n",
      "INFO:tensorflow:loss = 85.227234, step = 201 (0.275 sec)\n",
      "INFO:tensorflow:global_step/sec: 357.72\n",
      "INFO:tensorflow:loss = 67.55265, step = 301 (0.279 sec)\n",
      "INFO:tensorflow:global_step/sec: 358.035\n",
      "INFO:tensorflow:loss = 68.26814, step = 401 (0.281 sec)\n",
      "INFO:tensorflow:global_step/sec: 360.344\n",
      "INFO:tensorflow:loss = 111.30064, step = 501 (0.276 sec)\n",
      "INFO:tensorflow:global_step/sec: 357.292\n",
      "INFO:tensorflow:loss = 84.09644, step = 601 (0.281 sec)\n",
      "INFO:tensorflow:global_step/sec: 352.739\n",
      "INFO:tensorflow:loss = 69.309494, step = 701 (0.282 sec)\n",
      "INFO:tensorflow:global_step/sec: 352.597\n",
      "INFO:tensorflow:loss = 70.67428, step = 801 (0.285 sec)\n",
      "INFO:tensorflow:global_step/sec: 355.556\n",
      "INFO:tensorflow:loss = 72.01427, step = 901 (0.281 sec)\n",
      "INFO:tensorflow:Saving checkpoints for 1000 into /tmp/tmp2i3qi7u1/model.ckpt.\n",
      "INFO:tensorflow:Loss for final step: 81.06918.\n"
     ]
    },
    {
     "data": {
      "text/plain": [
       "<tensorflow.python.estimator.canned.linear.LinearClassifier at 0x7ff4e57820b8>"
      ]
     },
     "execution_count": 28,
     "metadata": {},
     "output_type": "execute_result"
    }
   ],
   "source": [
    "model.train(input_fn=input_func,steps=1000)"
   ]
  },
  {
   "cell_type": "code",
   "execution_count": 29,
   "metadata": {},
   "outputs": [],
   "source": [
    "eval_input_func = tf.estimator.inputs.pandas_input_fn(x=test_x,y=test_y,batch_size=10,num_epochs=1,shuffle=False)"
   ]
  },
  {
   "cell_type": "code",
   "execution_count": 30,
   "metadata": {
    "scrolled": true
   },
   "outputs": [
    {
     "name": "stdout",
     "output_type": "stream",
     "text": [
      "INFO:tensorflow:Calling model_fn.\n",
      "WARNING:tensorflow:Trapezoidal rule is known to produce incorrect PR-AUCs; please switch to \"careful_interpolation\" instead.\n",
      "WARNING:tensorflow:Trapezoidal rule is known to produce incorrect PR-AUCs; please switch to \"careful_interpolation\" instead.\n",
      "INFO:tensorflow:Done calling model_fn.\n",
      "INFO:tensorflow:Starting evaluation at 2018-08-24-20:03:17\n",
      "INFO:tensorflow:Graph was finalized.\n",
      "INFO:tensorflow:Restoring parameters from /tmp/tmp2i3qi7u1/model.ckpt-1000\n",
      "INFO:tensorflow:Running local_init_op.\n",
      "INFO:tensorflow:Done running local_init_op.\n",
      "INFO:tensorflow:Finished evaluation at 2018-08-24-20:03:47\n",
      "INFO:tensorflow:Saving dict for global step 1000: accuracy = 0.6084004, accuracy_baseline = 0.60483104, auc = 0.562985, auc_precision_recall = 0.69537216, average_loss = 0.94652516, global_step = 1000, label/mean = 0.60483104, loss = 9.464998, precision = 0.60700196, prediction/mean = 0.86987287, recall = 0.9999668\n",
      "INFO:tensorflow:Saving 'checkpoint_path' summary for global step 1000: /tmp/tmp2i3qi7u1/model.ckpt-1000\n"
     ]
    }
   ],
   "source": [
    "results = model.evaluate(eval_input_func)"
   ]
  },
  {
   "cell_type": "markdown",
   "metadata": {},
   "source": [
    "#### Accuracy : %61, Area under the Curve : .56"
   ]
  },
  {
   "cell_type": "code",
   "execution_count": 31,
   "metadata": {
    "scrolled": true
   },
   "outputs": [
    {
     "data": {
      "text/plain": [
       "{'accuracy': 0.6084004,\n",
       " 'accuracy_baseline': 0.60483104,\n",
       " 'auc': 0.562985,\n",
       " 'auc_precision_recall': 0.69537216,\n",
       " 'average_loss': 0.94652516,\n",
       " 'label/mean': 0.60483104,\n",
       " 'loss': 9.464998,\n",
       " 'precision': 0.60700196,\n",
       " 'prediction/mean': 0.86987287,\n",
       " 'recall': 0.9999668,\n",
       " 'global_step': 1000}"
      ]
     },
     "execution_count": 31,
     "metadata": {},
     "output_type": "execute_result"
    }
   ],
   "source": [
    "results # 61%"
   ]
  },
  {
   "cell_type": "markdown",
   "metadata": {},
   "source": [
    "## DNN Classifier (Dense Neural Network) with Estimator API"
   ]
  },
  {
   "cell_type": "code",
   "execution_count": 18,
   "metadata": {
    "scrolled": true
   },
   "outputs": [
    {
     "name": "stdout",
     "output_type": "stream",
     "text": [
      "INFO:tensorflow:Using default config.\n",
      "WARNING:tensorflow:Using temporary folder as model directory: /tmp/tmpfqibiql8\n",
      "INFO:tensorflow:Using config: {'_model_dir': '/tmp/tmpfqibiql8', '_tf_random_seed': None, '_save_summary_steps': 100, '_save_checkpoints_steps': None, '_save_checkpoints_secs': 600, '_session_config': None, '_keep_checkpoint_max': 5, '_keep_checkpoint_every_n_hours': 10000, '_log_step_count_steps': 100, '_train_distribute': None, '_device_fn': None, '_service': None, '_cluster_spec': <tensorflow.python.training.server_lib.ClusterSpec object at 0x7ff4e3f9ed68>, '_task_type': 'worker', '_task_id': 0, '_global_id_in_cluster': 0, '_master': '', '_evaluation_master': '', '_is_chief': True, '_num_ps_replicas': 0, '_num_worker_replicas': 1}\n"
     ]
    }
   ],
   "source": [
    "embedded_group_col = tf.feature_column.embedding_column(store_and_fwd_flag,dimension=2)\n",
    "\n",
    "feat_cols = [passenger_count,trip_distance,ratecode_id,embedded_group_col,\n",
    "             pu_loc_id,do_loc_id,payment_type,fare_amount,extra,mta_tax,tip_amount,tolls_amount,imp_scharge,\n",
    "             totalamount]\n",
    "\n",
    "dnn_model = tf.estimator.DNNClassifier(hidden_units=[4,6,6,6,4],feature_columns=feat_cols,\n",
    "                                      n_classes=2) # 4 layers 4 neurons, 6 neurons"
   ]
  },
  {
   "cell_type": "code",
   "execution_count": 19,
   "metadata": {
    "scrolled": true
   },
   "outputs": [
    {
     "name": "stdout",
     "output_type": "stream",
     "text": [
      "INFO:tensorflow:Calling model_fn.\n",
      "INFO:tensorflow:Done calling model_fn.\n",
      "INFO:tensorflow:Create CheckpointSaverHook.\n",
      "INFO:tensorflow:Graph was finalized.\n",
      "INFO:tensorflow:Running local_init_op.\n",
      "INFO:tensorflow:Done running local_init_op.\n",
      "INFO:tensorflow:Saving checkpoints for 0 into /tmp/tmpfqibiql8/model.ckpt.\n",
      "INFO:tensorflow:loss = 69.18998, step = 1\n",
      "INFO:tensorflow:global_step/sec: 285.85\n",
      "INFO:tensorflow:loss = 67.62404, step = 101 (0.350 sec)\n",
      "INFO:tensorflow:global_step/sec: 362.022\n",
      "INFO:tensorflow:loss = 68.33181, step = 201 (0.277 sec)\n",
      "INFO:tensorflow:global_step/sec: 366.885\n",
      "INFO:tensorflow:loss = 70.28719, step = 301 (0.273 sec)\n",
      "INFO:tensorflow:global_step/sec: 364.761\n",
      "INFO:tensorflow:loss = 68.86791, step = 401 (0.274 sec)\n",
      "INFO:tensorflow:global_step/sec: 358.199\n",
      "INFO:tensorflow:loss = 71.29304, step = 501 (0.279 sec)\n",
      "INFO:tensorflow:global_step/sec: 356.194\n",
      "INFO:tensorflow:loss = 68.41179, step = 601 (0.281 sec)\n",
      "INFO:tensorflow:global_step/sec: 365.399\n",
      "INFO:tensorflow:loss = 69.295784, step = 701 (0.274 sec)\n",
      "INFO:tensorflow:global_step/sec: 363.52\n",
      "INFO:tensorflow:loss = 69.49912, step = 801 (0.275 sec)\n",
      "INFO:tensorflow:global_step/sec: 362.624\n",
      "INFO:tensorflow:loss = 68.62927, step = 901 (0.276 sec)\n",
      "INFO:tensorflow:Saving checkpoints for 1000 into /tmp/tmpfqibiql8/model.ckpt.\n",
      "INFO:tensorflow:Loss for final step: 67.48061.\n"
     ]
    },
    {
     "data": {
      "text/plain": [
       "<tensorflow.python.estimator.canned.dnn.DNNClassifier at 0x7ff4e3f9eb38>"
      ]
     },
     "execution_count": 19,
     "metadata": {},
     "output_type": "execute_result"
    }
   ],
   "source": [
    "dnn_model.train(input_fn=input_func,steps=1000)"
   ]
  },
  {
   "cell_type": "code",
   "execution_count": 20,
   "metadata": {},
   "outputs": [],
   "source": [
    "eval_input_func = tf.estimator.inputs.pandas_input_fn(x=test_x,y=test_y,batch_size=100,num_epochs=1,shuffle=False)"
   ]
  },
  {
   "cell_type": "markdown",
   "metadata": {},
   "source": [
    "#### Accuracy : %60 Area under the Curve : .50"
   ]
  },
  {
   "cell_type": "code",
   "execution_count": 21,
   "metadata": {
    "scrolled": true
   },
   "outputs": [
    {
     "name": "stdout",
     "output_type": "stream",
     "text": [
      "INFO:tensorflow:Calling model_fn.\n",
      "WARNING:tensorflow:Trapezoidal rule is known to produce incorrect PR-AUCs; please switch to \"careful_interpolation\" instead.\n",
      "WARNING:tensorflow:Trapezoidal rule is known to produce incorrect PR-AUCs; please switch to \"careful_interpolation\" instead.\n",
      "INFO:tensorflow:Done calling model_fn.\n",
      "INFO:tensorflow:Starting evaluation at 2018-08-24-20:01:28\n",
      "INFO:tensorflow:Graph was finalized.\n",
      "INFO:tensorflow:Restoring parameters from /tmp/tmpfqibiql8/model.ckpt-1000\n",
      "INFO:tensorflow:Running local_init_op.\n",
      "INFO:tensorflow:Done running local_init_op.\n",
      "INFO:tensorflow:Finished evaluation at 2018-08-24-20:01:32\n",
      "INFO:tensorflow:Saving dict for global step 1000: accuracy = 0.60483104, accuracy_baseline = 0.60483104, auc = 0.5000162, auc_precision_recall = 0.67741674, average_loss = 0.6775777, global_step = 1000, label/mean = 0.60483104, loss = 67.724205, precision = 0.60483104, prediction/mean = 0.5480503, recall = 1.0\n",
      "INFO:tensorflow:Saving 'checkpoint_path' summary for global step 1000: /tmp/tmpfqibiql8/model.ckpt-1000\n"
     ]
    },
    {
     "data": {
      "text/plain": [
       "{'accuracy': 0.60483104,\n",
       " 'accuracy_baseline': 0.60483104,\n",
       " 'auc': 0.5000162,\n",
       " 'auc_precision_recall': 0.67741674,\n",
       " 'average_loss': 0.6775777,\n",
       " 'label/mean': 0.60483104,\n",
       " 'loss': 67.724205,\n",
       " 'precision': 0.60483104,\n",
       " 'prediction/mean': 0.5480503,\n",
       " 'recall': 1.0,\n",
       " 'global_step': 1000}"
      ]
     },
     "execution_count": 21,
     "metadata": {},
     "output_type": "execute_result"
    }
   ],
   "source": [
    "dnn_model.evaluate(eval_input_func)"
   ]
  },
  {
   "cell_type": "markdown",
   "metadata": {},
   "source": [
    "## Classification (Keras) (12:00-14:00 arası)"
   ]
  },
  {
   "cell_type": "code",
   "execution_count": null,
   "metadata": {},
   "outputs": [],
   "source": [
    "# Metrikler\n",
    "# Accuracy: tutan değerler / toplam değer\n",
    "# Precision: TP / (TP+FP)\n",
    "# Recall : TP / (TP+FN)"
   ]
  },
  {
   "cell_type": "code",
   "execution_count": 115,
   "metadata": {},
   "outputs": [],
   "source": [
    "model = keras.models.Sequential()\n",
    "model.add(keras.layers.Dense(32, input_shape=(train_x.shape[1],),activation='relu'))\n",
    "model.add(keras.layers.Dropout(0.1))\n",
    "model.add(keras.layers.Dense(64, activation='relu'))\n",
    "model.add(keras.layers.Dense(64, activation='relu'))\n",
    "model.add(keras.layers.Dense(32, activation='relu'))\n",
    "model.add(keras.layers.Dropout(0.1))\n",
    "model.add(keras.layers.Dense(1, activation='sigmoid'))\n",
    "\n",
    "# optimizers: rmsprop, SGD, adam, Adagrad, Adadelta, adanorm, nadam\n",
    "optimizer = tf.train.AdamOptimizer(0.001)\n",
    "model.compile(loss='binary_crossentropy', optimizer=optimizer, metrics=['accuracy'])"
   ]
  },
  {
   "cell_type": "code",
   "execution_count": 110,
   "metadata": {
    "scrolled": true
   },
   "outputs": [
    {
     "name": "stdout",
     "output_type": "stream",
     "text": [
      "Train on 45118 samples, validate on 8639 samples\n",
      "Epoch 1/200\n",
      "45118/45118 [==============================] - 3s 58us/step - loss: 0.8012 - acc: 0.5217 - val_loss: 0.6865 - val_acc: 0.6035\n",
      "Epoch 2/200\n",
      "45118/45118 [==============================] - 2s 34us/step - loss: 0.6910 - acc: 0.5337 - val_loss: 0.6813 - val_acc: 0.6034\n",
      "Epoch 3/200\n",
      "45118/45118 [==============================] - 2s 35us/step - loss: 0.6911 - acc: 0.5337 - val_loss: 0.6814 - val_acc: 0.6034\n",
      "Epoch 4/200\n",
      "45118/45118 [==============================] - 2s 34us/step - loss: 0.6909 - acc: 0.5339 - val_loss: 0.6808 - val_acc: 0.6034\n",
      "Epoch 5/200\n",
      "45118/45118 [==============================] - 2s 34us/step - loss: 0.6909 - acc: 0.5339 - val_loss: 0.6820 - val_acc: 0.6034\n",
      "Epoch 6/200\n",
      "45118/45118 [==============================] - 2s 35us/step - loss: 0.6909 - acc: 0.5339 - val_loss: 0.6821 - val_acc: 0.6034\n",
      "Epoch 7/200\n",
      "45118/45118 [==============================] - 2s 34us/step - loss: 0.6911 - acc: 0.5343 - val_loss: 0.6806 - val_acc: 0.6034\n",
      "Epoch 8/200\n",
      "45118/45118 [==============================] - 2s 36us/step - loss: 0.6909 - acc: 0.5340 - val_loss: 0.6825 - val_acc: 0.6034\n",
      "Epoch 9/200\n",
      "45118/45118 [==============================] - 2s 35us/step - loss: 0.6909 - acc: 0.5340 - val_loss: 0.6813 - val_acc: 0.6034\n",
      "Epoch 10/200\n",
      "45118/45118 [==============================] - 2s 35us/step - loss: 0.6909 - acc: 0.5340 - val_loss: 0.6810 - val_acc: 0.6034\n",
      "Epoch 11/200\n",
      "45118/45118 [==============================] - 2s 37us/step - loss: 0.6909 - acc: 0.5340 - val_loss: 0.6810 - val_acc: 0.6034\n",
      "Epoch 12/200\n",
      "45118/45118 [==============================] - 2s 35us/step - loss: 0.6909 - acc: 0.5340 - val_loss: 0.6826 - val_acc: 0.6034\n",
      "Epoch 13/200\n",
      "45118/45118 [==============================] - 2s 36us/step - loss: 0.6909 - acc: 0.5340 - val_loss: 0.6820 - val_acc: 0.6034\n",
      "Epoch 14/200\n",
      "45118/45118 [==============================] - 2s 35us/step - loss: 0.6909 - acc: 0.5340 - val_loss: 0.6810 - val_acc: 0.6034\n",
      "Epoch 15/200\n",
      "45118/45118 [==============================] - 2s 35us/step - loss: 0.6909 - acc: 0.5340 - val_loss: 0.6818 - val_acc: 0.6034\n",
      "Epoch 16/200\n",
      "45118/45118 [==============================] - 2s 35us/step - loss: 0.6909 - acc: 0.5340 - val_loss: 0.6809 - val_acc: 0.6034\n",
      "Epoch 17/200\n",
      "45118/45118 [==============================] - 2s 35us/step - loss: 0.6908 - acc: 0.5340 - val_loss: 0.6814 - val_acc: 0.6034\n",
      "Epoch 18/200\n",
      "45118/45118 [==============================] - 2s 36us/step - loss: 0.6909 - acc: 0.5340 - val_loss: 0.6810 - val_acc: 0.6034\n",
      "Epoch 19/200\n",
      "45118/45118 [==============================] - 2s 38us/step - loss: 0.6909 - acc: 0.5339 - val_loss: 0.6819 - val_acc: 0.6034\n",
      "Epoch 20/200\n",
      "45118/45118 [==============================] - 2s 35us/step - loss: 0.6909 - acc: 0.5339 - val_loss: 0.6813 - val_acc: 0.6034\n",
      "Epoch 21/200\n",
      "45118/45118 [==============================] - 2s 35us/step - loss: 0.6909 - acc: 0.5340 - val_loss: 0.6812 - val_acc: 0.6034\n",
      "Epoch 22/200\n",
      "45118/45118 [==============================] - 2s 38us/step - loss: 0.6908 - acc: 0.5340 - val_loss: 0.6805 - val_acc: 0.6034\n",
      "Epoch 23/200\n",
      "45118/45118 [==============================] - 2s 36us/step - loss: 0.6910 - acc: 0.5340 - val_loss: 0.6818 - val_acc: 0.6034\n",
      "Epoch 24/200\n",
      "45118/45118 [==============================] - 2s 36us/step - loss: 0.6908 - acc: 0.5340 - val_loss: 0.6804 - val_acc: 0.6034\n",
      "Epoch 25/200\n",
      "45118/45118 [==============================] - 2s 36us/step - loss: 0.6909 - acc: 0.5342 - val_loss: 0.6804 - val_acc: 0.6034\n",
      "Epoch 26/200\n",
      "45118/45118 [==============================] - 2s 36us/step - loss: 0.6908 - acc: 0.5340 - val_loss: 0.6809 - val_acc: 0.6034\n",
      "Epoch 27/200\n",
      "45118/45118 [==============================] - 2s 38us/step - loss: 0.6908 - acc: 0.5340 - val_loss: 0.6801 - val_acc: 0.6034\n",
      "Epoch 28/200\n",
      "45118/45118 [==============================] - 2s 33us/step - loss: 0.6908 - acc: 0.5340 - val_loss: 0.6826 - val_acc: 0.6034\n",
      "Epoch 29/200\n",
      "45118/45118 [==============================] - 1s 32us/step - loss: 0.6909 - acc: 0.5340 - val_loss: 0.6814 - val_acc: 0.6034\n",
      "Epoch 30/200\n",
      "45118/45118 [==============================] - 1s 31us/step - loss: 0.6908 - acc: 0.5340 - val_loss: 0.6816 - val_acc: 0.6034\n",
      "Epoch 31/200\n",
      "45118/45118 [==============================] - 1s 32us/step - loss: 0.6908 - acc: 0.5340 - val_loss: 0.6819 - val_acc: 0.6034\n",
      "Epoch 32/200\n",
      "45118/45118 [==============================] - 1s 31us/step - loss: 0.6910 - acc: 0.5340 - val_loss: 0.6805 - val_acc: 0.6034\n",
      "Epoch 33/200\n",
      "45118/45118 [==============================] - 1s 32us/step - loss: 0.6909 - acc: 0.5340 - val_loss: 0.6812 - val_acc: 0.6034\n",
      "Epoch 34/200\n",
      "45118/45118 [==============================] - 1s 32us/step - loss: 0.6908 - acc: 0.5340 - val_loss: 0.6813 - val_acc: 0.6034\n",
      "Epoch 35/200\n",
      "45118/45118 [==============================] - 1s 32us/step - loss: 0.6908 - acc: 0.5340 - val_loss: 0.6820 - val_acc: 0.6034\n",
      "Epoch 36/200\n",
      "45118/45118 [==============================] - 2s 39us/step - loss: 0.6908 - acc: 0.5340 - val_loss: 0.6816 - val_acc: 0.6034\n",
      "Epoch 37/200\n",
      "45118/45118 [==============================] - 1s 32us/step - loss: 0.6908 - acc: 0.5340 - val_loss: 0.6811 - val_acc: 0.6034\n",
      "Epoch 38/200\n",
      "45118/45118 [==============================] - 1s 33us/step - loss: 0.6908 - acc: 0.5340 - val_loss: 0.6810 - val_acc: 0.6034\n",
      "Epoch 39/200\n",
      "45118/45118 [==============================] - 1s 33us/step - loss: 0.6908 - acc: 0.5340 - val_loss: 0.6822 - val_acc: 0.6034\n",
      "Epoch 40/200\n",
      "45118/45118 [==============================] - 2s 34us/step - loss: 0.6908 - acc: 0.5340 - val_loss: 0.6804 - val_acc: 0.6034\n",
      "Epoch 41/200\n",
      "45118/45118 [==============================] - 2s 34us/step - loss: 0.6908 - acc: 0.5342 - val_loss: 0.6817 - val_acc: 0.6034\n",
      "Epoch 42/200\n",
      "45118/45118 [==============================] - 2s 38us/step - loss: 0.6908 - acc: 0.5340 - val_loss: 0.6805 - val_acc: 0.6034\n",
      "Epoch 43/200\n",
      "45118/45118 [==============================] - 2s 39us/step - loss: 0.6908 - acc: 0.5340 - val_loss: 0.6805 - val_acc: 0.6034\n",
      "Epoch 44/200\n",
      "45118/45118 [==============================] - 2s 40us/step - loss: 0.6908 - acc: 0.5340 - val_loss: 0.6823 - val_acc: 0.6034\n",
      "Epoch 45/200\n",
      "45118/45118 [==============================] - 2s 38us/step - loss: 0.6908 - acc: 0.5340 - val_loss: 0.6815 - val_acc: 0.6034\n",
      "Epoch 46/200\n",
      "45118/45118 [==============================] - 2s 36us/step - loss: 0.6909 - acc: 0.5339 - val_loss: 0.6823 - val_acc: 0.6034\n",
      "Epoch 47/200\n",
      "45118/45118 [==============================] - 2s 41us/step - loss: 0.6909 - acc: 0.5340 - val_loss: 0.6813 - val_acc: 0.6034\n",
      "Epoch 48/200\n",
      "45118/45118 [==============================] - 2s 37us/step - loss: 0.6908 - acc: 0.5340 - val_loss: 0.6818 - val_acc: 0.6034\n",
      "Epoch 49/200\n",
      "45118/45118 [==============================] - 2s 36us/step - loss: 0.6908 - acc: 0.5340 - val_loss: 0.6805 - val_acc: 0.6034\n",
      "Epoch 50/200\n",
      "45118/45118 [==============================] - 2s 37us/step - loss: 0.6908 - acc: 0.5340 - val_loss: 0.6834 - val_acc: 0.6034\n",
      "Epoch 51/200\n",
      "45118/45118 [==============================] - 2s 39us/step - loss: 0.6908 - acc: 0.5340 - val_loss: 0.6816 - val_acc: 0.6034\n",
      "Epoch 52/200\n",
      "45118/45118 [==============================] - 2s 38us/step - loss: 0.6908 - acc: 0.5340 - val_loss: 0.6822 - val_acc: 0.6034\n",
      "Epoch 53/200\n",
      "45118/45118 [==============================] - 2s 35us/step - loss: 0.6908 - acc: 0.5340 - val_loss: 0.6819 - val_acc: 0.6034\n",
      "Epoch 54/200\n",
      "45118/45118 [==============================] - 2s 35us/step - loss: 0.6908 - acc: 0.5340 - val_loss: 0.6819 - val_acc: 0.6034\n",
      "Epoch 55/200\n",
      "45118/45118 [==============================] - 2s 35us/step - loss: 0.6908 - acc: 0.5340 - val_loss: 0.6812 - val_acc: 0.6034\n",
      "Epoch 56/200\n",
      "45118/45118 [==============================] - 2s 38us/step - loss: 0.6908 - acc: 0.5340 - val_loss: 0.6803 - val_acc: 0.6034\n",
      "Epoch 57/200\n",
      "45118/45118 [==============================] - 2s 35us/step - loss: 0.6908 - acc: 0.5340 - val_loss: 0.6815 - val_acc: 0.6034\n",
      "Epoch 58/200\n",
      "45118/45118 [==============================] - 2s 37us/step - loss: 0.6908 - acc: 0.5340 - val_loss: 0.6826 - val_acc: 0.6034\n",
      "Epoch 59/200\n",
      "45118/45118 [==============================] - 2s 36us/step - loss: 0.6908 - acc: 0.5340 - val_loss: 0.6809 - val_acc: 0.6034\n",
      "Epoch 60/200\n",
      "45118/45118 [==============================] - 2s 35us/step - loss: 0.6908 - acc: 0.5340 - val_loss: 0.6814 - val_acc: 0.6034\n",
      "Epoch 61/200\n",
      "45118/45118 [==============================] - 2s 35us/step - loss: 0.6908 - acc: 0.5340 - val_loss: 0.6817 - val_acc: 0.6034\n",
      "Epoch 62/200\n",
      "45118/45118 [==============================] - 2s 36us/step - loss: 0.6908 - acc: 0.5340 - val_loss: 0.6808 - val_acc: 0.6034\n",
      "Epoch 63/200\n",
      "45118/45118 [==============================] - 2s 34us/step - loss: 0.6908 - acc: 0.5340 - val_loss: 0.6823 - val_acc: 0.6034\n",
      "Epoch 64/200\n",
      "45118/45118 [==============================] - 2s 34us/step - loss: 0.6908 - acc: 0.5340 - val_loss: 0.6810 - val_acc: 0.6034\n",
      "Epoch 65/200\n",
      "45118/45118 [==============================] - 2s 36us/step - loss: 0.6908 - acc: 0.5340 - val_loss: 0.6817 - val_acc: 0.6034\n",
      "Epoch 66/200\n",
      "45118/45118 [==============================] - 2s 38us/step - loss: 0.6909 - acc: 0.5340 - val_loss: 0.6812 - val_acc: 0.6034\n",
      "Epoch 67/200\n",
      "45118/45118 [==============================] - 2s 35us/step - loss: 0.6908 - acc: 0.5340 - val_loss: 0.6820 - val_acc: 0.6034\n",
      "Epoch 68/200\n",
      "45118/45118 [==============================] - 2s 36us/step - loss: 0.6916 - acc: 0.5340 - val_loss: 0.6806 - val_acc: 0.6034\n",
      "Epoch 69/200\n",
      "45118/45118 [==============================] - 2s 36us/step - loss: 0.6908 - acc: 0.5340 - val_loss: 0.6813 - val_acc: 0.6034\n",
      "Epoch 70/200\n",
      "45118/45118 [==============================] - 2s 38us/step - loss: 0.6908 - acc: 0.5340 - val_loss: 0.6817 - val_acc: 0.6034\n",
      "Epoch 71/200\n",
      "45118/45118 [==============================] - 2s 37us/step - loss: 0.6908 - acc: 0.5340 - val_loss: 0.6809 - val_acc: 0.6034\n",
      "Epoch 72/200\n",
      "45118/45118 [==============================] - 2s 36us/step - loss: 0.6908 - acc: 0.5340 - val_loss: 0.6807 - val_acc: 0.6034\n",
      "Epoch 73/200\n",
      "45118/45118 [==============================] - 2s 35us/step - loss: 0.6908 - acc: 0.5340 - val_loss: 0.6816 - val_acc: 0.6034\n",
      "Epoch 74/200\n",
      "45118/45118 [==============================] - 2s 36us/step - loss: 0.6908 - acc: 0.5340 - val_loss: 0.6818 - val_acc: 0.6034\n",
      "Epoch 75/200\n",
      "45118/45118 [==============================] - 2s 35us/step - loss: 0.6908 - acc: 0.5340 - val_loss: 0.6803 - val_acc: 0.6034\n",
      "Epoch 76/200\n",
      "45118/45118 [==============================] - 2s 35us/step - loss: 0.6908 - acc: 0.5340 - val_loss: 0.6836 - val_acc: 0.6034\n",
      "Epoch 77/200\n",
      "45118/45118 [==============================] - 2s 36us/step - loss: 0.6909 - acc: 0.5340 - val_loss: 0.6819 - val_acc: 0.6034\n"
     ]
    }
   ],
   "source": [
    "early_stop = keras.callbacks.EarlyStopping(monitor='val_loss', patience=50)\n",
    "history = model.fit(train_x, train_y, epochs=200,verbose=2\n",
    "                    ,callbacks=[early_stop], shuffle=True,\n",
    "                   validation_data=(test_x,test_y))"
   ]
  },
  {
   "cell_type": "code",
   "execution_count": 111,
   "metadata": {
    "scrolled": true
   },
   "outputs": [
    {
     "data": {
      "text/plain": [
       "dict_keys(['val_loss', 'val_acc', 'loss', 'acc'])"
      ]
     },
     "execution_count": 111,
     "metadata": {},
     "output_type": "execute_result"
    }
   ],
   "source": [
    "# history.history.keys()"
   ]
  },
  {
   "cell_type": "code",
   "execution_count": 112,
   "metadata": {
    "scrolled": true
   },
   "outputs": [
    {
     "data": {
      "text/plain": [
       "<matplotlib.legend.Legend at 0x7f2f0f924780>"
      ]
     },
     "execution_count": 112,
     "metadata": {},
     "output_type": "execute_result"
    },
    {
     "data": {
      "image/png": "[encoded data removed]",
      "text/plain": [
       "<Figure size 432x288 with 1 Axes>"
      ]
     },
     "metadata": {},
     "output_type": "display_data"
    }
   ],
   "source": [
    "# Accuracy (Tutarlılık)\n",
    "plt.plot(history.history['acc'])\n",
    "plt.plot(history.history['val_acc'])\n",
    "plt.title('model accuracy')\n",
    "plt.ylabel('accuracy')\n",
    "plt.xlabel('epoch')\n",
    "plt.legend(['train', 'validation'], loc='lower right')"
   ]
  },
  {
   "cell_type": "code",
   "execution_count": 113,
   "metadata": {
    "scrolled": true
   },
   "outputs": [
    {
     "data": {
      "text/plain": [
       "<matplotlib.legend.Legend at 0x7f2f0f741e80>"
      ]
     },
     "execution_count": 113,
     "metadata": {},
     "output_type": "execute_result"
    },
    {
     "data": {
      "image/png": "[encoded data removed]",
      "text/plain": [
       "<Figure size 432x288 with 1 Axes>"
      ]
     },
     "metadata": {},
     "output_type": "display_data"
    }
   ],
   "source": [
    "# Loss\n",
    "plt.plot(history.history['loss'])\n",
    "plt.plot(history.history['val_loss'])\n",
    "plt.title('model loss')\n",
    "plt.ylabel('loss')\n",
    "plt.xlabel('epoch')\n",
    "plt.legend(['train', 'validation'], loc='upper right')"
   ]
  },
  {
   "cell_type": "code",
   "execution_count": 114,
   "metadata": {
    "scrolled": true
   },
   "outputs": [],
   "source": [
    "# [s1,s2] = model.evaluate(test_x,test_y,verbose=1)\n",
    "# model.metrics_names\n",
    "# [s1,s2]"
   ]
  },
  {
   "cell_type": "markdown",
   "metadata": {},
   "source": [
    "# Regression - Toplam Miktar Tahmin (Keras)"
   ]
  },
  {
   "cell_type": "code",
   "execution_count": 28,
   "metadata": {},
   "outputs": [],
   "source": [
    "model = keras.models.Sequential()\n",
    "model.add(keras.layers.Dense(64, input_shape=(reg_train_x.shape[1],),activation='relu'))\n",
    "model.add(keras.layers.Dense(64,activation='relu'))\n",
    "model.add(keras.layers.Dense(1))\n",
    "\n",
    "# optimizers: rmsprop, SGD, adam, Adagrad, Adadelta, adanorm, nadam\n",
    "optimizer = tf.train.AdamOptimizer(0.001)\n",
    "model.compile(loss='mse', optimizer=optimizer, metrics=['mae'])"
   ]
  },
  {
   "cell_type": "code",
   "execution_count": 29,
   "metadata": {},
   "outputs": [
    {
     "name": "stdout",
     "output_type": "stream",
     "text": [
      "Train on 45152 samples, validate on 8643 samples\n",
      "Epoch 1/500\n",
      " - 1s - loss: 0.6133 - mean_absolute_error: 0.1867 - val_loss: 0.0059 - val_mean_absolute_error: 0.0518\n",
      "Epoch 2/500\n",
      " - 1s - loss: 0.0668 - mean_absolute_error: 0.1530 - val_loss: 0.0487 - val_mean_absolute_error: 0.2058\n",
      "Epoch 3/500\n",
      " - 1s - loss: 0.0600 - mean_absolute_error: 0.1538 - val_loss: 0.0156 - val_mean_absolute_error: 0.1148\n",
      "Epoch 4/500\n",
      " - 1s - loss: 0.0526 - mean_absolute_error: 0.1446 - val_loss: 0.1159 - val_mean_absolute_error: 0.3232\n",
      "Epoch 5/500\n",
      " - 1s - loss: 0.0462 - mean_absolute_error: 0.1273 - val_loss: 0.0085 - val_mean_absolute_error: 0.0696\n",
      "Epoch 6/500\n",
      " - 1s - loss: 0.0342 - mean_absolute_error: 0.1206 - val_loss: 0.0328 - val_mean_absolute_error: 0.1679\n",
      "Epoch 7/500\n",
      " - 1s - loss: 0.0425 - mean_absolute_error: 0.1046 - val_loss: 0.0159 - val_mean_absolute_error: 0.1145\n",
      "Epoch 8/500\n",
      " - 1s - loss: 0.0355 - mean_absolute_error: 0.1236 - val_loss: 0.2958 - val_mean_absolute_error: 0.4876\n",
      "Epoch 9/500\n",
      " - 1s - loss: 0.0277 - mean_absolute_error: 0.0989 - val_loss: 0.0061 - val_mean_absolute_error: 0.0502\n",
      "Epoch 10/500\n",
      " - 1s - loss: 0.0290 - mean_absolute_error: 0.0805 - val_loss: 0.0027 - val_mean_absolute_error: 0.0362\n",
      "Epoch 11/500\n",
      " - 1s - loss: 0.0297 - mean_absolute_error: 0.1009 - val_loss: 0.0553 - val_mean_absolute_error: 0.2105\n",
      "Epoch 12/500\n",
      " - 1s - loss: 0.0129 - mean_absolute_error: 0.0669 - val_loss: 0.0029 - val_mean_absolute_error: 0.0368\n",
      "Epoch 13/500\n",
      " - 1s - loss: 0.0180 - mean_absolute_error: 0.0866 - val_loss: 0.0038 - val_mean_absolute_error: 0.0452\n",
      "Epoch 14/500\n",
      " - 1s - loss: 0.0154 - mean_absolute_error: 0.0684 - val_loss: 0.0097 - val_mean_absolute_error: 0.0859\n",
      "Epoch 15/500\n",
      " - 1s - loss: 0.0120 - mean_absolute_error: 0.0668 - val_loss: 0.0680 - val_mean_absolute_error: 0.2471\n",
      "Epoch 16/500\n",
      " - 1s - loss: 0.0102 - mean_absolute_error: 0.0564 - val_loss: 0.0095 - val_mean_absolute_error: 0.0889\n",
      "Epoch 17/500\n",
      " - 1s - loss: 0.0124 - mean_absolute_error: 0.0712 - val_loss: 0.0177 - val_mean_absolute_error: 0.1132\n",
      "Epoch 18/500\n",
      " - 1s - loss: 0.0116 - mean_absolute_error: 0.0515 - val_loss: 0.0061 - val_mean_absolute_error: 0.0749\n",
      "Epoch 19/500\n",
      " - 1s - loss: 0.0112 - mean_absolute_error: 0.0618 - val_loss: 0.0083 - val_mean_absolute_error: 0.0885\n",
      "Epoch 20/500\n",
      " - 1s - loss: 0.0110 - mean_absolute_error: 0.0408 - val_loss: 0.0066 - val_mean_absolute_error: 0.0782\n",
      "Epoch 21/500\n",
      " - 1s - loss: 0.0039 - mean_absolute_error: 0.0390 - val_loss: 0.0657 - val_mean_absolute_error: 0.2488\n",
      "Epoch 22/500\n",
      " - 1s - loss: 0.0066 - mean_absolute_error: 0.0477 - val_loss: 0.0183 - val_mean_absolute_error: 0.1310\n",
      "Epoch 23/500\n",
      " - 1s - loss: 0.0060 - mean_absolute_error: 0.0407 - val_loss: 0.0081 - val_mean_absolute_error: 0.0879\n",
      "Epoch 24/500\n",
      " - 1s - loss: 0.0051 - mean_absolute_error: 0.0461 - val_loss: 0.0110 - val_mean_absolute_error: 0.1024\n",
      "Epoch 25/500\n",
      " - 1s - loss: 0.0050 - mean_absolute_error: 0.0425 - val_loss: 0.0087 - val_mean_absolute_error: 0.0900\n",
      "Epoch 26/500\n",
      " - 1s - loss: 0.0041 - mean_absolute_error: 0.0422 - val_loss: 0.0037 - val_mean_absolute_error: 0.0511\n",
      "Epoch 27/500\n",
      " - 1s - loss: 0.0053 - mean_absolute_error: 0.0423 - val_loss: 0.0089 - val_mean_absolute_error: 0.0917\n",
      "Epoch 28/500\n",
      " - 1s - loss: 0.0035 - mean_absolute_error: 0.0281 - val_loss: 0.0116 - val_mean_absolute_error: 0.1050\n",
      "Epoch 29/500\n",
      " - 1s - loss: 0.0027 - mean_absolute_error: 0.0315 - val_loss: 0.0077 - val_mean_absolute_error: 0.0852\n",
      "Epoch 30/500\n",
      " - 1s - loss: 0.0035 - mean_absolute_error: 0.0359 - val_loss: 0.0075 - val_mean_absolute_error: 0.0839\n",
      "Epoch 31/500\n",
      " - 1s - loss: 0.0025 - mean_absolute_error: 0.0309 - val_loss: 0.0114 - val_mean_absolute_error: 0.1038\n",
      "Epoch 32/500\n",
      " - 1s - loss: 0.0036 - mean_absolute_error: 0.0352 - val_loss: 0.0076 - val_mean_absolute_error: 0.0840\n",
      "Epoch 33/500\n",
      " - 1s - loss: 0.0016 - mean_absolute_error: 0.0252 - val_loss: 0.0072 - val_mean_absolute_error: 0.0825\n",
      "Epoch 34/500\n",
      " - 1s - loss: 0.0030 - mean_absolute_error: 0.0348 - val_loss: 0.0071 - val_mean_absolute_error: 0.0779\n",
      "Epoch 35/500\n",
      " - 1s - loss: 0.0019 - mean_absolute_error: 0.0234 - val_loss: 0.0053 - val_mean_absolute_error: 0.0697\n",
      "Epoch 36/500\n",
      " - 1s - loss: 0.0020 - mean_absolute_error: 0.0307 - val_loss: 0.0072 - val_mean_absolute_error: 0.0825\n",
      "Epoch 37/500\n",
      " - 1s - loss: 0.0022 - mean_absolute_error: 0.0294 - val_loss: 0.0236 - val_mean_absolute_error: 0.1455\n",
      "Epoch 38/500\n",
      " - 1s - loss: 0.0016 - mean_absolute_error: 0.0194 - val_loss: 0.0026 - val_mean_absolute_error: 0.0438\n",
      "Epoch 39/500\n",
      " - 1s - loss: 0.0018 - mean_absolute_error: 0.0264 - val_loss: 0.0089 - val_mean_absolute_error: 0.0924\n",
      "Epoch 40/500\n",
      " - 1s - loss: 0.0012 - mean_absolute_error: 0.0200 - val_loss: 0.0102 - val_mean_absolute_error: 0.0991\n",
      "Epoch 41/500\n",
      " - 1s - loss: 0.0012 - mean_absolute_error: 0.0218 - val_loss: 0.0072 - val_mean_absolute_error: 0.0827\n",
      "Epoch 42/500\n",
      " - 1s - loss: 0.0012 - mean_absolute_error: 0.0235 - val_loss: 0.0045 - val_mean_absolute_error: 0.0643\n",
      "Epoch 43/500\n",
      " - 1s - loss: 8.6886e-04 - mean_absolute_error: 0.0191 - val_loss: 0.0055 - val_mean_absolute_error: 0.0724\n",
      "Epoch 44/500\n",
      " - 1s - loss: 0.0010 - mean_absolute_error: 0.0206 - val_loss: 0.0092 - val_mean_absolute_error: 0.0943\n",
      "Epoch 45/500\n",
      " - 1s - loss: 0.0010 - mean_absolute_error: 0.0220 - val_loss: 0.0080 - val_mean_absolute_error: 0.0875\n",
      "Epoch 46/500\n",
      " - 1s - loss: 7.1865e-04 - mean_absolute_error: 0.0180 - val_loss: 0.0065 - val_mean_absolute_error: 0.0777\n",
      "Epoch 47/500\n",
      " - 1s - loss: 7.9039e-04 - mean_absolute_error: 0.0177 - val_loss: 0.0024 - val_mean_absolute_error: 0.0432\n",
      "Epoch 48/500\n",
      " - 1s - loss: 8.9511e-04 - mean_absolute_error: 0.0188 - val_loss: 0.0170 - val_mean_absolute_error: 0.1285\n",
      "Epoch 49/500\n",
      " - 1s - loss: 6.2447e-04 - mean_absolute_error: 0.0173 - val_loss: 0.0045 - val_mean_absolute_error: 0.0634\n",
      "Epoch 50/500\n",
      " - 1s - loss: 6.6502e-04 - mean_absolute_error: 0.0175 - val_loss: 0.0066 - val_mean_absolute_error: 0.0794\n",
      "Epoch 51/500\n",
      " - 1s - loss: 6.3714e-04 - mean_absolute_error: 0.0176 - val_loss: 0.0100 - val_mean_absolute_error: 0.0978\n",
      "Epoch 52/500\n",
      " - 1s - loss: 4.6622e-04 - mean_absolute_error: 0.0141 - val_loss: 0.0082 - val_mean_absolute_error: 0.0884\n",
      "Epoch 53/500\n",
      " - 1s - loss: 4.7932e-04 - mean_absolute_error: 0.0153 - val_loss: 0.0096 - val_mean_absolute_error: 0.0963\n",
      "Epoch 54/500\n",
      " - 1s - loss: 6.4519e-04 - mean_absolute_error: 0.0157 - val_loss: 0.0069 - val_mean_absolute_error: 0.0813\n",
      "Epoch 55/500\n",
      " - 1s - loss: 3.6296e-04 - mean_absolute_error: 0.0119 - val_loss: 0.0087 - val_mean_absolute_error: 0.0918\n",
      "Epoch 56/500\n",
      " - 1s - loss: 4.4530e-04 - mean_absolute_error: 0.0143 - val_loss: 0.0061 - val_mean_absolute_error: 0.0761\n",
      "Epoch 57/500\n",
      " - 1s - loss: 3.9804e-04 - mean_absolute_error: 0.0137 - val_loss: 0.0070 - val_mean_absolute_error: 0.0820\n",
      "Epoch 58/500\n",
      " - 1s - loss: 3.7640e-04 - mean_absolute_error: 0.0133 - val_loss: 0.0041 - val_mean_absolute_error: 0.0613\n",
      "Epoch 59/500\n",
      " - 1s - loss: 3.2738e-04 - mean_absolute_error: 0.0126 - val_loss: 0.0065 - val_mean_absolute_error: 0.0788\n",
      "Epoch 60/500\n",
      " - 1s - loss: 2.7793e-04 - mean_absolute_error: 0.0112 - val_loss: 0.0060 - val_mean_absolute_error: 0.0754\n",
      "Epoch 61/500\n",
      " - 1s - loss: 3.3679e-04 - mean_absolute_error: 0.0125 - val_loss: 0.0063 - val_mean_absolute_error: 0.0774\n",
      "Epoch 62/500\n",
      " - 1s - loss: 3.4923e-04 - mean_absolute_error: 0.0115 - val_loss: 0.0060 - val_mean_absolute_error: 0.0753\n",
      "Epoch 63/500\n",
      " - 1s - loss: 2.6344e-04 - mean_absolute_error: 0.0106 - val_loss: 0.0105 - val_mean_absolute_error: 0.1010\n",
      "Epoch 64/500\n",
      " - 1s - loss: 2.4955e-04 - mean_absolute_error: 0.0109 - val_loss: 0.0070 - val_mean_absolute_error: 0.0814\n",
      "Epoch 65/500\n",
      " - 1s - loss: 2.1297e-04 - mean_absolute_error: 0.0095 - val_loss: 0.0050 - val_mean_absolute_error: 0.0687\n",
      "Epoch 66/500\n",
      " - 1s - loss: 2.2804e-04 - mean_absolute_error: 0.0104 - val_loss: 0.0067 - val_mean_absolute_error: 0.0802\n",
      "Epoch 67/500\n",
      " - 1s - loss: 1.8907e-04 - mean_absolute_error: 0.0093 - val_loss: 0.0063 - val_mean_absolute_error: 0.0772\n",
      "Epoch 68/500\n",
      " - 1s - loss: 2.2033e-04 - mean_absolute_error: 0.0099 - val_loss: 0.0062 - val_mean_absolute_error: 0.0767\n",
      "Epoch 69/500\n",
      " - 1s - loss: 1.7582e-04 - mean_absolute_error: 0.0091 - val_loss: 0.0055 - val_mean_absolute_error: 0.0720\n"
     ]
    },
    {
     "name": "stdout",
     "output_type": "stream",
     "text": [
      "Epoch 70/500\n",
      " - 1s - loss: 1.8045e-04 - mean_absolute_error: 0.0090 - val_loss: 0.0030 - val_mean_absolute_error: 0.0512\n",
      "Epoch 71/500\n",
      " - 1s - loss: 1.5528e-04 - mean_absolute_error: 0.0086 - val_loss: 0.0079 - val_mean_absolute_error: 0.0871\n",
      "Epoch 72/500\n",
      " - 1s - loss: 1.6097e-04 - mean_absolute_error: 0.0087 - val_loss: 0.0061 - val_mean_absolute_error: 0.0762\n",
      "Epoch 73/500\n",
      " - 1s - loss: 1.5024e-04 - mean_absolute_error: 0.0082 - val_loss: 0.0055 - val_mean_absolute_error: 0.0722\n",
      "Epoch 74/500\n",
      " - 1s - loss: 1.4712e-04 - mean_absolute_error: 0.0081 - val_loss: 0.0062 - val_mean_absolute_error: 0.0766\n",
      "Epoch 75/500\n",
      " - 1s - loss: 1.1241e-04 - mean_absolute_error: 0.0074 - val_loss: 0.0052 - val_mean_absolute_error: 0.0703\n",
      "Epoch 76/500\n",
      " - 1s - loss: 1.2148e-04 - mean_absolute_error: 0.0073 - val_loss: 0.0046 - val_mean_absolute_error: 0.0656\n",
      "Epoch 77/500\n",
      " - 1s - loss: 1.2595e-04 - mean_absolute_error: 0.0077 - val_loss: 0.0050 - val_mean_absolute_error: 0.0690\n",
      "Epoch 78/500\n",
      " - 1s - loss: 1.0177e-04 - mean_absolute_error: 0.0066 - val_loss: 0.0037 - val_mean_absolute_error: 0.0584\n",
      "Epoch 79/500\n",
      " - 1s - loss: 9.5561e-05 - mean_absolute_error: 0.0068 - val_loss: 0.0042 - val_mean_absolute_error: 0.0626\n",
      "Epoch 80/500\n",
      " - 1s - loss: 8.8295e-05 - mean_absolute_error: 0.0065 - val_loss: 0.0047 - val_mean_absolute_error: 0.0666\n",
      "Epoch 81/500\n",
      " - 1s - loss: 9.2516e-05 - mean_absolute_error: 0.0066 - val_loss: 0.0038 - val_mean_absolute_error: 0.0595\n",
      "Epoch 82/500\n",
      " - 1s - loss: 7.8672e-05 - mean_absolute_error: 0.0062 - val_loss: 0.0036 - val_mean_absolute_error: 0.0585\n",
      "Epoch 83/500\n",
      " - 1s - loss: 7.5052e-05 - mean_absolute_error: 0.0060 - val_loss: 0.0034 - val_mean_absolute_error: 0.0565\n",
      "Epoch 84/500\n",
      " - 1s - loss: 8.1733e-05 - mean_absolute_error: 0.0061 - val_loss: 0.0036 - val_mean_absolute_error: 0.0581\n",
      "Epoch 85/500\n",
      " - 1s - loss: 6.1566e-05 - mean_absolute_error: 0.0054 - val_loss: 0.0032 - val_mean_absolute_error: 0.0551\n",
      "Epoch 86/500\n",
      " - 1s - loss: 6.5704e-05 - mean_absolute_error: 0.0056 - val_loss: 0.0029 - val_mean_absolute_error: 0.0519\n",
      "Epoch 87/500\n",
      " - 1s - loss: 6.8270e-05 - mean_absolute_error: 0.0057 - val_loss: 0.0029 - val_mean_absolute_error: 0.0523\n",
      "Epoch 88/500\n",
      " - 1s - loss: 5.1316e-05 - mean_absolute_error: 0.0048 - val_loss: 0.0037 - val_mean_absolute_error: 0.0594\n",
      "Epoch 89/500\n",
      " - 1s - loss: 4.9990e-05 - mean_absolute_error: 0.0048 - val_loss: 0.0028 - val_mean_absolute_error: 0.0513\n",
      "Epoch 90/500\n",
      " - 1s - loss: 4.7968e-05 - mean_absolute_error: 0.0049 - val_loss: 0.0020 - val_mean_absolute_error: 0.0427\n",
      "Epoch 91/500\n",
      " - 1s - loss: 4.6422e-05 - mean_absolute_error: 0.0047 - val_loss: 0.0018 - val_mean_absolute_error: 0.0405\n",
      "Epoch 92/500\n",
      " - 1s - loss: 3.9881e-05 - mean_absolute_error: 0.0044 - val_loss: 0.0022 - val_mean_absolute_error: 0.0457\n",
      "Epoch 93/500\n",
      " - 1s - loss: 3.7530e-05 - mean_absolute_error: 0.0042 - val_loss: 0.0017 - val_mean_absolute_error: 0.0404\n",
      "Epoch 94/500\n",
      " - 1s - loss: 3.7114e-05 - mean_absolute_error: 0.0041 - val_loss: 0.0017 - val_mean_absolute_error: 0.0402\n",
      "Epoch 95/500\n",
      " - 1s - loss: 3.5404e-05 - mean_absolute_error: 0.0041 - val_loss: 0.0014 - val_mean_absolute_error: 0.0364\n",
      "Epoch 96/500\n",
      " - 1s - loss: 3.1819e-05 - mean_absolute_error: 0.0039 - val_loss: 0.0014 - val_mean_absolute_error: 0.0367\n",
      "Epoch 97/500\n",
      " - 1s - loss: 3.5061e-05 - mean_absolute_error: 0.0039 - val_loss: 0.0013 - val_mean_absolute_error: 0.0349\n",
      "Epoch 98/500\n",
      " - 1s - loss: 3.4156e-05 - mean_absolute_error: 0.0038 - val_loss: 0.0012 - val_mean_absolute_error: 0.0329\n",
      "Epoch 99/500\n",
      " - 1s - loss: 2.3527e-05 - mean_absolute_error: 0.0033 - val_loss: 6.5355e-04 - val_mean_absolute_error: 0.0238\n",
      "Epoch 100/500\n",
      " - 1s - loss: 2.0550e-05 - mean_absolute_error: 0.0031 - val_loss: 5.5217e-04 - val_mean_absolute_error: 0.0221\n",
      "Epoch 101/500\n",
      " - 1s - loss: 2.5377e-05 - mean_absolute_error: 0.0034 - val_loss: 8.5941e-04 - val_mean_absolute_error: 0.0283\n",
      "Epoch 102/500\n",
      " - 1s - loss: 2.6206e-05 - mean_absolute_error: 0.0032 - val_loss: 5.4755e-04 - val_mean_absolute_error: 0.0219\n",
      "Epoch 103/500\n",
      " - 1s - loss: 2.1157e-05 - mean_absolute_error: 0.0028 - val_loss: 5.5175e-04 - val_mean_absolute_error: 0.0224\n",
      "Epoch 104/500\n",
      " - 1s - loss: 2.3118e-05 - mean_absolute_error: 0.0029 - val_loss: 4.5007e-04 - val_mean_absolute_error: 0.0202\n",
      "Epoch 105/500\n",
      " - 1s - loss: 2.2918e-05 - mean_absolute_error: 0.0029 - val_loss: 8.0447e-04 - val_mean_absolute_error: 0.0272\n",
      "Epoch 106/500\n",
      " - 1s - loss: 1.6298e-05 - mean_absolute_error: 0.0027 - val_loss: 4.8475e-04 - val_mean_absolute_error: 0.0212\n",
      "Epoch 107/500\n",
      " - 1s - loss: 1.5796e-05 - mean_absolute_error: 0.0029 - val_loss: 2.7296e-04 - val_mean_absolute_error: 0.0155\n",
      "Epoch 108/500\n",
      " - 1s - loss: 1.7103e-05 - mean_absolute_error: 0.0027 - val_loss: 1.1111e-04 - val_mean_absolute_error: 0.0093\n",
      "Epoch 109/500\n",
      " - 1s - loss: 1.2804e-05 - mean_absolute_error: 0.0025 - val_loss: 3.2021e-04 - val_mean_absolute_error: 0.0171\n",
      "Epoch 110/500\n",
      " - 1s - loss: 1.5854e-05 - mean_absolute_error: 0.0026 - val_loss: 3.4765e-04 - val_mean_absolute_error: 0.0178\n",
      "Epoch 111/500\n",
      " - 1s - loss: 1.5060e-05 - mean_absolute_error: 0.0026 - val_loss: 2.0548e-04 - val_mean_absolute_error: 0.0132\n",
      "Epoch 112/500\n",
      " - 1s - loss: 1.6611e-05 - mean_absolute_error: 0.0025 - val_loss: 4.3184e-04 - val_mean_absolute_error: 0.0198\n",
      "Epoch 113/500\n",
      " - 1s - loss: 1.6496e-05 - mean_absolute_error: 0.0024 - val_loss: 3.5058e-04 - val_mean_absolute_error: 0.0179\n",
      "Epoch 114/500\n",
      " - 1s - loss: 1.1226e-05 - mean_absolute_error: 0.0024 - val_loss: 3.2850e-04 - val_mean_absolute_error: 0.0174\n",
      "Epoch 115/500\n",
      " - 1s - loss: 1.1689e-05 - mean_absolute_error: 0.0022 - val_loss: 2.1379e-04 - val_mean_absolute_error: 0.0134\n",
      "Epoch 116/500\n",
      " - 1s - loss: 4.0015e-05 - mean_absolute_error: 0.0027 - val_loss: 2.8129e-04 - val_mean_absolute_error: 0.0158\n",
      "Epoch 117/500\n",
      " - 1s - loss: 1.5383e-05 - mean_absolute_error: 0.0023 - val_loss: 3.9003e-04 - val_mean_absolute_error: 0.0181\n",
      "Epoch 118/500\n",
      " - 1s - loss: 1.0525e-05 - mean_absolute_error: 0.0019 - val_loss: 2.0620e-04 - val_mean_absolute_error: 0.0133\n",
      "Epoch 119/500\n",
      " - 1s - loss: 7.2792e-06 - mean_absolute_error: 0.0020 - val_loss: 1.5827e-04 - val_mean_absolute_error: 0.0113\n",
      "Epoch 120/500\n",
      " - 1s - loss: 1.1423e-05 - mean_absolute_error: 0.0022 - val_loss: 2.7348e-04 - val_mean_absolute_error: 0.0155\n",
      "Epoch 121/500\n",
      " - 1s - loss: 1.4689e-05 - mean_absolute_error: 0.0021 - val_loss: 2.3606e-04 - val_mean_absolute_error: 0.0141\n",
      "Epoch 122/500\n",
      " - 1s - loss: 1.4983e-05 - mean_absolute_error: 0.0021 - val_loss: 2.1979e-04 - val_mean_absolute_error: 0.0129\n",
      "Epoch 123/500\n",
      " - 1s - loss: 1.6922e-05 - mean_absolute_error: 0.0022 - val_loss: 1.5475e-04 - val_mean_absolute_error: 0.0108\n",
      "Epoch 124/500\n",
      " - 1s - loss: 1.0774e-05 - mean_absolute_error: 0.0019 - val_loss: 6.9605e-05 - val_mean_absolute_error: 0.0071\n",
      "Epoch 125/500\n",
      " - 1s - loss: 1.0295e-05 - mean_absolute_error: 0.0018 - val_loss: 1.2734e-04 - val_mean_absolute_error: 0.0106\n",
      "Epoch 126/500\n",
      " - 1s - loss: 6.1527e-06 - mean_absolute_error: 0.0017 - val_loss: 2.1261e-04 - val_mean_absolute_error: 0.0138\n",
      "Epoch 127/500\n",
      " - 1s - loss: 7.9141e-06 - mean_absolute_error: 0.0019 - val_loss: 1.5302e-04 - val_mean_absolute_error: 0.0114\n",
      "Epoch 128/500\n",
      " - 1s - loss: 5.3503e-06 - mean_absolute_error: 0.0017 - val_loss: 1.0276e-04 - val_mean_absolute_error: 0.0093\n",
      "Epoch 129/500\n",
      " - 1s - loss: 1.8677e-05 - mean_absolute_error: 0.0023 - val_loss: 1.2080e-04 - val_mean_absolute_error: 0.0098\n",
      "Epoch 130/500\n",
      " - 1s - loss: 4.5630e-06 - mean_absolute_error: 0.0014 - val_loss: 9.0449e-05 - val_mean_absolute_error: 0.0084\n",
      "Epoch 131/500\n",
      " - 1s - loss: 7.3653e-06 - mean_absolute_error: 0.0018 - val_loss: 1.7204e-04 - val_mean_absolute_error: 0.0123\n",
      "Epoch 132/500\n",
      " - 1s - loss: 4.9976e-06 - mean_absolute_error: 0.0016 - val_loss: 5.6257e-05 - val_mean_absolute_error: 0.0061\n",
      "Epoch 133/500\n",
      " - 1s - loss: 6.2796e-06 - mean_absolute_error: 0.0017 - val_loss: 5.3104e-05 - val_mean_absolute_error: 0.0062\n",
      "Epoch 134/500\n",
      " - 1s - loss: 7.6721e-06 - mean_absolute_error: 0.0018 - val_loss: 7.7212e-05 - val_mean_absolute_error: 0.0074\n",
      "Epoch 135/500\n",
      " - 1s - loss: 1.5104e-05 - mean_absolute_error: 0.0019 - val_loss: 9.5108e-05 - val_mean_absolute_error: 0.0092\n",
      "Epoch 136/500\n",
      " - 1s - loss: 4.2142e-06 - mean_absolute_error: 0.0015 - val_loss: 1.9390e-04 - val_mean_absolute_error: 0.0132\n"
     ]
    },
    {
     "name": "stdout",
     "output_type": "stream",
     "text": [
      "Epoch 137/500\n",
      " - 1s - loss: 7.0851e-06 - mean_absolute_error: 0.0018 - val_loss: 1.2797e-04 - val_mean_absolute_error: 0.0106\n",
      "Epoch 138/500\n",
      " - 1s - loss: 6.6997e-06 - mean_absolute_error: 0.0016 - val_loss: 7.5876e-05 - val_mean_absolute_error: 0.0078\n",
      "Epoch 139/500\n",
      " - 1s - loss: 6.0267e-06 - mean_absolute_error: 0.0018 - val_loss: 1.1138e-04 - val_mean_absolute_error: 0.0102\n",
      "Epoch 140/500\n",
      " - 1s - loss: 5.4185e-06 - mean_absolute_error: 0.0015 - val_loss: 1.0472e-04 - val_mean_absolute_error: 0.0096\n",
      "Epoch 141/500\n",
      " - 1s - loss: 6.6847e-06 - mean_absolute_error: 0.0017 - val_loss: 1.5109e-04 - val_mean_absolute_error: 0.0115\n",
      "Epoch 142/500\n",
      " - 1s - loss: 4.8421e-06 - mean_absolute_error: 0.0016 - val_loss: 6.9103e-05 - val_mean_absolute_error: 0.0071\n",
      "Epoch 143/500\n",
      " - 1s - loss: 5.7078e-06 - mean_absolute_error: 0.0017 - val_loss: 9.8165e-05 - val_mean_absolute_error: 0.0088\n",
      "Epoch 144/500\n",
      " - 1s - loss: 5.0817e-06 - mean_absolute_error: 0.0015 - val_loss: 2.2221e-04 - val_mean_absolute_error: 0.0144\n",
      "Epoch 145/500\n",
      " - 1s - loss: 8.6159e-06 - mean_absolute_error: 0.0018 - val_loss: 1.3368e-04 - val_mean_absolute_error: 0.0108\n",
      "Epoch 146/500\n",
      " - 1s - loss: 4.9057e-06 - mean_absolute_error: 0.0015 - val_loss: 1.1342e-04 - val_mean_absolute_error: 0.0099\n",
      "Epoch 147/500\n",
      " - 1s - loss: 7.2915e-06 - mean_absolute_error: 0.0017 - val_loss: 2.4784e-04 - val_mean_absolute_error: 0.0151\n",
      "Epoch 148/500\n",
      " - 1s - loss: 1.0174e-05 - mean_absolute_error: 0.0016 - val_loss: 1.7023e-04 - val_mean_absolute_error: 0.0122\n",
      "Epoch 149/500\n",
      " - 1s - loss: 3.9842e-06 - mean_absolute_error: 0.0013 - val_loss: 7.3884e-05 - val_mean_absolute_error: 0.0079\n",
      "Epoch 150/500\n",
      " - 1s - loss: 5.3189e-06 - mean_absolute_error: 0.0015 - val_loss: 1.1173e-04 - val_mean_absolute_error: 0.0094\n",
      "Epoch 151/500\n",
      " - 1s - loss: 6.4746e-06 - mean_absolute_error: 0.0015 - val_loss: 1.2061e-04 - val_mean_absolute_error: 0.0104\n",
      "Epoch 152/500\n",
      " - 1s - loss: 1.4485e-05 - mean_absolute_error: 0.0019 - val_loss: 9.4590e-05 - val_mean_absolute_error: 0.0089\n",
      "Epoch 153/500\n",
      " - 1s - loss: 4.0345e-06 - mean_absolute_error: 0.0013 - val_loss: 7.2214e-05 - val_mean_absolute_error: 0.0078\n",
      "Epoch 154/500\n",
      " - 1s - loss: 6.2054e-06 - mean_absolute_error: 0.0016 - val_loss: 1.8092e-04 - val_mean_absolute_error: 0.0127\n",
      "Epoch 155/500\n",
      " - 1s - loss: 7.3668e-06 - mean_absolute_error: 0.0016 - val_loss: 1.1026e-04 - val_mean_absolute_error: 0.0098\n",
      "Epoch 156/500\n",
      " - 1s - loss: 4.4153e-06 - mean_absolute_error: 0.0014 - val_loss: 6.6983e-05 - val_mean_absolute_error: 0.0074\n",
      "Epoch 157/500\n",
      " - 1s - loss: 6.8951e-06 - mean_absolute_error: 0.0017 - val_loss: 1.1040e-04 - val_mean_absolute_error: 0.0099\n",
      "Epoch 158/500\n",
      " - 1s - loss: 7.6514e-06 - mean_absolute_error: 0.0015 - val_loss: 1.1910e-04 - val_mean_absolute_error: 0.0102\n",
      "Epoch 159/500\n",
      " - 1s - loss: 6.1393e-06 - mean_absolute_error: 0.0015 - val_loss: 9.5147e-05 - val_mean_absolute_error: 0.0090\n",
      "Epoch 160/500\n",
      " - 1s - loss: 4.0663e-06 - mean_absolute_error: 0.0013 - val_loss: 8.3254e-05 - val_mean_absolute_error: 0.0083\n",
      "Epoch 161/500\n",
      " - 1s - loss: 5.5049e-06 - mean_absolute_error: 0.0016 - val_loss: 8.7462e-05 - val_mean_absolute_error: 0.0089\n",
      "Epoch 162/500\n",
      " - 1s - loss: 4.3709e-06 - mean_absolute_error: 0.0013 - val_loss: 6.7818e-05 - val_mean_absolute_error: 0.0076\n",
      "Epoch 163/500\n",
      " - 1s - loss: 4.4727e-06 - mean_absolute_error: 0.0014 - val_loss: 8.5746e-05 - val_mean_absolute_error: 0.0087\n",
      "Epoch 164/500\n",
      " - 1s - loss: 5.2962e-06 - mean_absolute_error: 0.0016 - val_loss: 9.4937e-05 - val_mean_absolute_error: 0.0088\n",
      "Epoch 165/500\n",
      " - 1s - loss: 4.7104e-06 - mean_absolute_error: 0.0013 - val_loss: 3.8393e-05 - val_mean_absolute_error: 0.0047\n",
      "Epoch 166/500\n",
      " - 1s - loss: 7.1474e-06 - mean_absolute_error: 0.0016 - val_loss: 8.0727e-05 - val_mean_absolute_error: 0.0080\n",
      "Epoch 167/500\n",
      " - 1s - loss: 3.0373e-06 - mean_absolute_error: 0.0012 - val_loss: 7.0153e-05 - val_mean_absolute_error: 0.0077\n",
      "Epoch 168/500\n",
      " - 1s - loss: 5.4820e-06 - mean_absolute_error: 0.0015 - val_loss: 6.5456e-05 - val_mean_absolute_error: 0.0074\n",
      "Epoch 169/500\n",
      " - 1s - loss: 7.4755e-06 - mean_absolute_error: 0.0015 - val_loss: 3.2188e-04 - val_mean_absolute_error: 0.0174\n",
      "Epoch 170/500\n",
      " - 1s - loss: 4.2570e-06 - mean_absolute_error: 0.0013 - val_loss: 2.5502e-04 - val_mean_absolute_error: 0.0155\n",
      "Epoch 171/500\n",
      " - 1s - loss: 5.6997e-06 - mean_absolute_error: 0.0014 - val_loss: 9.8000e-05 - val_mean_absolute_error: 0.0093\n",
      "Epoch 172/500\n",
      " - 1s - loss: 4.1619e-06 - mean_absolute_error: 0.0014 - val_loss: 1.1676e-04 - val_mean_absolute_error: 0.0100\n",
      "Epoch 173/500\n",
      " - 1s - loss: 6.2191e-06 - mean_absolute_error: 0.0016 - val_loss: 9.2050e-05 - val_mean_absolute_error: 0.0092\n",
      "Epoch 174/500\n",
      " - 1s - loss: 3.2711e-06 - mean_absolute_error: 0.0012 - val_loss: 4.0280e-05 - val_mean_absolute_error: 0.0055\n",
      "Epoch 175/500\n",
      " - 1s - loss: 5.0170e-06 - mean_absolute_error: 0.0015 - val_loss: 6.3340e-05 - val_mean_absolute_error: 0.0072\n",
      "Epoch 176/500\n",
      " - 1s - loss: 9.0408e-06 - mean_absolute_error: 0.0014 - val_loss: 3.4668e-05 - val_mean_absolute_error: 0.0042\n",
      "Epoch 177/500\n",
      " - 1s - loss: 3.3685e-06 - mean_absolute_error: 0.0012 - val_loss: 3.0187e-05 - val_mean_absolute_error: 0.0045\n",
      "Epoch 178/500\n",
      " - 1s - loss: 4.7286e-06 - mean_absolute_error: 0.0014 - val_loss: 8.0839e-05 - val_mean_absolute_error: 0.0085\n",
      "Epoch 179/500\n",
      " - 1s - loss: 5.4670e-06 - mean_absolute_error: 0.0014 - val_loss: 1.3019e-04 - val_mean_absolute_error: 0.0109\n",
      "Epoch 180/500\n",
      " - 1s - loss: 2.9285e-06 - mean_absolute_error: 0.0011 - val_loss: 3.4560e-05 - val_mean_absolute_error: 0.0049\n",
      "Epoch 181/500\n",
      " - 1s - loss: 4.4243e-06 - mean_absolute_error: 0.0013 - val_loss: 3.5490e-05 - val_mean_absolute_error: 0.0048\n",
      "Epoch 182/500\n",
      " - 1s - loss: 4.4493e-06 - mean_absolute_error: 0.0014 - val_loss: 1.1244e-04 - val_mean_absolute_error: 0.0097\n",
      "Epoch 183/500\n",
      " - 1s - loss: 8.7748e-06 - mean_absolute_error: 0.0013 - val_loss: 1.1561e-04 - val_mean_absolute_error: 0.0103\n",
      "Epoch 184/500\n",
      " - 1s - loss: 4.1941e-06 - mean_absolute_error: 0.0013 - val_loss: 1.1872e-04 - val_mean_absolute_error: 0.0102\n",
      "Epoch 185/500\n",
      " - 1s - loss: 4.0792e-06 - mean_absolute_error: 0.0013 - val_loss: 7.2439e-05 - val_mean_absolute_error: 0.0077\n",
      "Epoch 186/500\n",
      " - 1s - loss: 8.0414e-06 - mean_absolute_error: 0.0015 - val_loss: 1.2966e-04 - val_mean_absolute_error: 0.0106\n",
      "Epoch 187/500\n",
      " - 1s - loss: 9.2741e-06 - mean_absolute_error: 0.0013 - val_loss: 1.7190e-04 - val_mean_absolute_error: 0.0125\n",
      "Epoch 188/500\n",
      " - 1s - loss: 3.6867e-06 - mean_absolute_error: 0.0011 - val_loss: 6.4297e-05 - val_mean_absolute_error: 0.0074\n",
      "Epoch 189/500\n",
      " - 1s - loss: 3.0373e-06 - mean_absolute_error: 0.0012 - val_loss: 1.9002e-05 - val_mean_absolute_error: 0.0031\n",
      "Epoch 190/500\n",
      " - 1s - loss: 6.9477e-06 - mean_absolute_error: 0.0015 - val_loss: 7.1959e-05 - val_mean_absolute_error: 0.0078\n",
      "Epoch 191/500\n",
      " - 1s - loss: 2.6313e-06 - mean_absolute_error: 0.0011 - val_loss: 7.6687e-05 - val_mean_absolute_error: 0.0082\n",
      "Epoch 192/500\n",
      " - 1s - loss: 3.8218e-06 - mean_absolute_error: 0.0013 - val_loss: 4.2464e-05 - val_mean_absolute_error: 0.0058\n",
      "Epoch 193/500\n",
      " - 1s - loss: 6.3619e-06 - mean_absolute_error: 0.0013 - val_loss: 1.2447e-04 - val_mean_absolute_error: 0.0104\n",
      "Epoch 194/500\n",
      " - 1s - loss: 5.1564e-06 - mean_absolute_error: 0.0012 - val_loss: 6.2699e-05 - val_mean_absolute_error: 0.0072\n",
      "Epoch 195/500\n",
      " - 1s - loss: 3.1566e-06 - mean_absolute_error: 9.9295e-04 - val_loss: 1.0733e-04 - val_mean_absolute_error: 0.0100\n",
      "Epoch 196/500\n",
      " - 1s - loss: 3.1901e-06 - mean_absolute_error: 0.0012 - val_loss: 7.8843e-05 - val_mean_absolute_error: 0.0084\n",
      "Epoch 197/500\n",
      " - 1s - loss: 5.1689e-06 - mean_absolute_error: 0.0015 - val_loss: 6.5956e-05 - val_mean_absolute_error: 0.0076\n",
      "Epoch 198/500\n",
      " - 1s - loss: 6.8605e-06 - mean_absolute_error: 0.0013 - val_loss: 6.3190e-04 - val_mean_absolute_error: 0.0242\n",
      "Epoch 199/500\n",
      " - 1s - loss: 3.4688e-06 - mean_absolute_error: 0.0011 - val_loss: 7.9697e-05 - val_mean_absolute_error: 0.0083\n",
      "Epoch 200/500\n",
      " - 1s - loss: 3.6687e-06 - mean_absolute_error: 0.0013 - val_loss: 3.9972e-05 - val_mean_absolute_error: 0.0057\n",
      "Epoch 201/500\n",
      " - 1s - loss: 4.0744e-06 - mean_absolute_error: 0.0010 - val_loss: 5.8704e-05 - val_mean_absolute_error: 0.0071\n"
     ]
    },
    {
     "name": "stdout",
     "output_type": "stream",
     "text": [
      "Epoch 202/500\n",
      " - 1s - loss: 3.6660e-06 - mean_absolute_error: 0.0011 - val_loss: 5.0260e-05 - val_mean_absolute_error: 0.0064\n",
      "Epoch 203/500\n",
      " - 1s - loss: 4.7542e-06 - mean_absolute_error: 0.0012 - val_loss: 3.1000e-05 - val_mean_absolute_error: 0.0048\n",
      "Epoch 204/500\n",
      " - 1s - loss: 3.7191e-06 - mean_absolute_error: 0.0011 - val_loss: 6.1491e-05 - val_mean_absolute_error: 0.0070\n",
      "Epoch 205/500\n",
      " - 1s - loss: 9.2955e-06 - mean_absolute_error: 0.0014 - val_loss: 1.4730e-04 - val_mean_absolute_error: 0.0114\n",
      "Epoch 206/500\n",
      " - 1s - loss: 2.3077e-06 - mean_absolute_error: 9.2897e-04 - val_loss: 1.3405e-05 - val_mean_absolute_error: 0.0021\n",
      "Epoch 207/500\n",
      " - 1s - loss: 2.9838e-06 - mean_absolute_error: 0.0011 - val_loss: 1.0765e-04 - val_mean_absolute_error: 0.0099\n",
      "Epoch 208/500\n",
      " - 1s - loss: 2.6414e-06 - mean_absolute_error: 0.0011 - val_loss: 4.7079e-05 - val_mean_absolute_error: 0.0061\n",
      "Epoch 209/500\n",
      " - 1s - loss: 5.9701e-06 - mean_absolute_error: 0.0012 - val_loss: 4.8409e-05 - val_mean_absolute_error: 0.0060\n",
      "Epoch 210/500\n",
      " - 1s - loss: 3.7031e-06 - mean_absolute_error: 0.0010 - val_loss: 9.2045e-05 - val_mean_absolute_error: 0.0091\n",
      "Epoch 211/500\n",
      " - 1s - loss: 2.9996e-06 - mean_absolute_error: 0.0012 - val_loss: 4.3531e-05 - val_mean_absolute_error: 0.0057\n",
      "Epoch 212/500\n",
      " - 1s - loss: 2.9044e-06 - mean_absolute_error: 0.0011 - val_loss: 3.3187e-05 - val_mean_absolute_error: 0.0050\n",
      "Epoch 213/500\n",
      " - 1s - loss: 3.5515e-06 - mean_absolute_error: 0.0011 - val_loss: 1.6007e-04 - val_mean_absolute_error: 0.0119\n",
      "Epoch 214/500\n",
      " - 1s - loss: 8.1695e-06 - mean_absolute_error: 0.0013 - val_loss: 3.5923e-05 - val_mean_absolute_error: 0.0050\n",
      "Epoch 215/500\n",
      " - 1s - loss: 3.7807e-06 - mean_absolute_error: 9.7397e-04 - val_loss: 3.6515e-05 - val_mean_absolute_error: 0.0052\n",
      "Epoch 216/500\n",
      " - 1s - loss: 5.0951e-06 - mean_absolute_error: 0.0012 - val_loss: 4.2751e-05 - val_mean_absolute_error: 0.0057\n",
      "Epoch 217/500\n",
      " - 1s - loss: 4.3363e-06 - mean_absolute_error: 0.0010 - val_loss: 5.0473e-05 - val_mean_absolute_error: 0.0063\n",
      "Epoch 218/500\n",
      " - 1s - loss: 3.7097e-06 - mean_absolute_error: 0.0011 - val_loss: 5.1853e-05 - val_mean_absolute_error: 0.0064\n",
      "Epoch 219/500\n",
      " - 1s - loss: 3.5436e-06 - mean_absolute_error: 0.0012 - val_loss: 5.6090e-05 - val_mean_absolute_error: 0.0070\n",
      "Epoch 220/500\n",
      " - 1s - loss: 7.3946e-06 - mean_absolute_error: 0.0012 - val_loss: 5.7412e-05 - val_mean_absolute_error: 0.0067\n",
      "Epoch 221/500\n",
      " - 1s - loss: 5.4880e-06 - mean_absolute_error: 0.0011 - val_loss: 5.0401e-05 - val_mean_absolute_error: 0.0064\n",
      "Epoch 222/500\n",
      " - 1s - loss: 3.0246e-06 - mean_absolute_error: 0.0010 - val_loss: 3.5354e-05 - val_mean_absolute_error: 0.0050\n",
      "Epoch 223/500\n",
      " - 1s - loss: 5.5094e-06 - mean_absolute_error: 9.9223e-04 - val_loss: 4.5731e-05 - val_mean_absolute_error: 0.0062\n",
      "Epoch 224/500\n",
      " - 1s - loss: 2.9434e-06 - mean_absolute_error: 0.0011 - val_loss: 4.8339e-05 - val_mean_absolute_error: 0.0063\n",
      "Epoch 225/500\n",
      " - 1s - loss: 5.3873e-06 - mean_absolute_error: 0.0013 - val_loss: 4.1307e-05 - val_mean_absolute_error: 0.0055\n",
      "Epoch 226/500\n",
      " - 1s - loss: 2.5779e-06 - mean_absolute_error: 9.8402e-04 - val_loss: 3.2020e-05 - val_mean_absolute_error: 0.0048\n",
      "Epoch 227/500\n",
      " - 1s - loss: 1.9664e-06 - mean_absolute_error: 8.7068e-04 - val_loss: 4.3741e-05 - val_mean_absolute_error: 0.0060\n",
      "Epoch 228/500\n",
      " - 1s - loss: 4.4407e-06 - mean_absolute_error: 0.0011 - val_loss: 5.9810e-05 - val_mean_absolute_error: 0.0070\n",
      "Epoch 229/500\n",
      " - 1s - loss: 4.6802e-06 - mean_absolute_error: 0.0013 - val_loss: 6.7109e-05 - val_mean_absolute_error: 0.0077\n",
      "Epoch 230/500\n",
      " - 1s - loss: 2.7800e-06 - mean_absolute_error: 0.0010 - val_loss: 9.7935e-06 - val_mean_absolute_error: 0.0015\n",
      "Epoch 231/500\n",
      " - 1s - loss: 2.6324e-06 - mean_absolute_error: 0.0011 - val_loss: 4.7372e-05 - val_mean_absolute_error: 0.0061\n",
      "Epoch 232/500\n",
      " - 1s - loss: 5.5793e-06 - mean_absolute_error: 0.0011 - val_loss: 3.9377e-05 - val_mean_absolute_error: 0.0054\n",
      "Epoch 233/500\n",
      " - 1s - loss: 4.3708e-06 - mean_absolute_error: 0.0010 - val_loss: 4.9435e-05 - val_mean_absolute_error: 0.0064\n",
      "Epoch 234/500\n",
      " - 1s - loss: 3.0023e-06 - mean_absolute_error: 9.7495e-04 - val_loss: 3.0868e-05 - val_mean_absolute_error: 0.0048\n",
      "Epoch 235/500\n",
      " - 1s - loss: 3.9093e-06 - mean_absolute_error: 0.0011 - val_loss: 5.8646e-05 - val_mean_absolute_error: 0.0069\n",
      "Epoch 236/500\n",
      " - 1s - loss: 4.2543e-06 - mean_absolute_error: 0.0010 - val_loss: 5.9890e-05 - val_mean_absolute_error: 0.0072\n",
      "Epoch 237/500\n",
      " - 1s - loss: 3.2128e-06 - mean_absolute_error: 9.9616e-04 - val_loss: 4.5164e-05 - val_mean_absolute_error: 0.0060\n",
      "Epoch 238/500\n",
      " - 1s - loss: 3.9108e-06 - mean_absolute_error: 0.0011 - val_loss: 2.9554e-05 - val_mean_absolute_error: 0.0040\n",
      "Epoch 239/500\n",
      " - 1s - loss: 3.8089e-06 - mean_absolute_error: 0.0011 - val_loss: 4.8218e-05 - val_mean_absolute_error: 0.0063\n",
      "Epoch 240/500\n",
      " - 1s - loss: 1.4868e-06 - mean_absolute_error: 8.0244e-04 - val_loss: 1.4824e-05 - val_mean_absolute_error: 0.0017\n",
      "Epoch 241/500\n",
      " - 1s - loss: 4.6051e-06 - mean_absolute_error: 0.0013 - val_loss: 3.1120e-05 - val_mean_absolute_error: 0.0048\n",
      "Epoch 242/500\n",
      " - 1s - loss: 2.6466e-06 - mean_absolute_error: 8.7255e-04 - val_loss: 4.3380e-05 - val_mean_absolute_error: 0.0058\n",
      "Epoch 243/500\n",
      " - 1s - loss: 2.3549e-06 - mean_absolute_error: 9.7460e-04 - val_loss: 1.3716e-04 - val_mean_absolute_error: 0.0113\n",
      "Epoch 244/500\n",
      " - 1s - loss: 2.6661e-06 - mean_absolute_error: 9.7713e-04 - val_loss: 3.0871e-05 - val_mean_absolute_error: 0.0046\n",
      "Epoch 245/500\n",
      " - 1s - loss: 2.9088e-06 - mean_absolute_error: 0.0011 - val_loss: 3.6658e-05 - val_mean_absolute_error: 0.0050\n",
      "Epoch 246/500\n",
      " - 1s - loss: 2.7835e-06 - mean_absolute_error: 9.3169e-04 - val_loss: 4.1180e-05 - val_mean_absolute_error: 0.0056\n",
      "Epoch 247/500\n",
      " - 1s - loss: 3.1180e-06 - mean_absolute_error: 0.0011 - val_loss: 3.5122e-05 - val_mean_absolute_error: 0.0052\n",
      "Epoch 248/500\n",
      " - 1s - loss: 4.2867e-06 - mean_absolute_error: 0.0010 - val_loss: 8.4575e-05 - val_mean_absolute_error: 0.0083\n",
      "Epoch 249/500\n",
      " - 1s - loss: 5.3124e-06 - mean_absolute_error: 0.0011 - val_loss: 6.1058e-05 - val_mean_absolute_error: 0.0071\n",
      "Epoch 250/500\n",
      " - 1s - loss: 4.3602e-06 - mean_absolute_error: 9.9604e-04 - val_loss: 4.7242e-05 - val_mean_absolute_error: 0.0061\n",
      "Epoch 251/500\n",
      " - 1s - loss: 2.2505e-06 - mean_absolute_error: 8.1380e-04 - val_loss: 4.3734e-05 - val_mean_absolute_error: 0.0060\n",
      "Epoch 252/500\n",
      " - 1s - loss: 5.2359e-06 - mean_absolute_error: 0.0012 - val_loss: 3.9320e-05 - val_mean_absolute_error: 0.0055\n",
      "Epoch 253/500\n",
      " - 1s - loss: 7.7536e-06 - mean_absolute_error: 0.0012 - val_loss: 5.0181e-05 - val_mean_absolute_error: 0.0063\n",
      "Epoch 254/500\n",
      " - 1s - loss: 3.4934e-06 - mean_absolute_error: 8.1075e-04 - val_loss: 2.4235e-05 - val_mean_absolute_error: 0.0039\n",
      "Epoch 255/500\n",
      " - 1s - loss: 1.8809e-06 - mean_absolute_error: 8.3355e-04 - val_loss: 3.3127e-05 - val_mean_absolute_error: 0.0050\n",
      "Epoch 256/500\n",
      " - 1s - loss: 4.5307e-06 - mean_absolute_error: 0.0012 - val_loss: 4.6644e-05 - val_mean_absolute_error: 0.0058\n",
      "Epoch 257/500\n",
      " - 1s - loss: 4.6035e-06 - mean_absolute_error: 9.0657e-04 - val_loss: 2.6489e-05 - val_mean_absolute_error: 0.0043\n",
      "Epoch 258/500\n",
      " - 1s - loss: 3.6047e-06 - mean_absolute_error: 0.0010 - val_loss: 7.1830e-05 - val_mean_absolute_error: 0.0078\n",
      "Epoch 259/500\n",
      " - 1s - loss: 5.7579e-06 - mean_absolute_error: 0.0012 - val_loss: 6.6918e-05 - val_mean_absolute_error: 0.0074\n",
      "Epoch 260/500\n",
      " - 1s - loss: 2.2304e-06 - mean_absolute_error: 7.3811e-04 - val_loss: 3.6092e-05 - val_mean_absolute_error: 0.0052\n",
      "Epoch 261/500\n",
      " - 1s - loss: 2.0389e-06 - mean_absolute_error: 9.5597e-04 - val_loss: 2.6742e-05 - val_mean_absolute_error: 0.0043\n",
      "Epoch 262/500\n",
      " - 1s - loss: 2.0029e-06 - mean_absolute_error: 9.4247e-04 - val_loss: 7.3621e-05 - val_mean_absolute_error: 0.0080\n",
      "Epoch 263/500\n",
      " - 1s - loss: 3.9705e-06 - mean_absolute_error: 0.0012 - val_loss: 4.0479e-05 - val_mean_absolute_error: 0.0054\n",
      "Epoch 264/500\n",
      " - 1s - loss: 3.7004e-06 - mean_absolute_error: 8.6110e-04 - val_loss: 2.4866e-05 - val_mean_absolute_error: 0.0041\n",
      "Epoch 265/500\n",
      " - 1s - loss: 2.2955e-06 - mean_absolute_error: 8.9325e-04 - val_loss: 4.5356e-05 - val_mean_absolute_error: 0.0062\n",
      "Epoch 266/500\n",
      " - 1s - loss: 2.4605e-06 - mean_absolute_error: 9.8541e-04 - val_loss: 2.2126e-05 - val_mean_absolute_error: 0.0039\n"
     ]
    },
    {
     "name": "stdout",
     "output_type": "stream",
     "text": [
      "Epoch 267/500\n",
      " - 1s - loss: 1.7077e-06 - mean_absolute_error: 8.6055e-04 - val_loss: 2.8461e-05 - val_mean_absolute_error: 0.0046\n",
      "Epoch 268/500\n",
      " - 1s - loss: 2.1860e-06 - mean_absolute_error: 9.1968e-04 - val_loss: 3.9700e-05 - val_mean_absolute_error: 0.0055\n",
      "Epoch 269/500\n",
      " - 1s - loss: 5.2817e-06 - mean_absolute_error: 0.0011 - val_loss: 5.8410e-05 - val_mean_absolute_error: 0.0069\n",
      "Epoch 270/500\n",
      " - 1s - loss: 3.1372e-06 - mean_absolute_error: 7.7809e-04 - val_loss: 1.9693e-05 - val_mean_absolute_error: 0.0038\n",
      "Epoch 271/500\n",
      " - 1s - loss: 3.7970e-06 - mean_absolute_error: 0.0012 - val_loss: 5.1028e-05 - val_mean_absolute_error: 0.0063\n",
      "Epoch 272/500\n",
      " - 1s - loss: 4.9948e-06 - mean_absolute_error: 9.5684e-04 - val_loss: 5.3635e-05 - val_mean_absolute_error: 0.0066\n",
      "Epoch 273/500\n",
      " - 1s - loss: 4.8352e-06 - mean_absolute_error: 9.6947e-04 - val_loss: 4.7855e-05 - val_mean_absolute_error: 0.0062\n",
      "Epoch 274/500\n",
      " - 1s - loss: 3.4604e-06 - mean_absolute_error: 8.6485e-04 - val_loss: 5.8313e-05 - val_mean_absolute_error: 0.0069\n",
      "Epoch 275/500\n",
      " - 1s - loss: 3.6865e-06 - mean_absolute_error: 8.9208e-04 - val_loss: 5.1941e-05 - val_mean_absolute_error: 0.0065\n",
      "Epoch 276/500\n",
      " - 1s - loss: 3.6431e-06 - mean_absolute_error: 9.9965e-04 - val_loss: 1.0556e-04 - val_mean_absolute_error: 0.0099\n",
      "Epoch 277/500\n",
      " - 1s - loss: 3.1509e-06 - mean_absolute_error: 8.1762e-04 - val_loss: 3.4761e-05 - val_mean_absolute_error: 0.0052\n",
      "Epoch 278/500\n",
      " - 1s - loss: 1.5481e-06 - mean_absolute_error: 7.8102e-04 - val_loss: 4.3945e-05 - val_mean_absolute_error: 0.0058\n",
      "Epoch 279/500\n",
      " - 1s - loss: 2.9601e-06 - mean_absolute_error: 0.0010 - val_loss: 8.0693e-05 - val_mean_absolute_error: 0.0084\n",
      "Epoch 280/500\n",
      " - 1s - loss: 2.1817e-06 - mean_absolute_error: 8.7904e-04 - val_loss: 3.5068e-05 - val_mean_absolute_error: 0.0051\n"
     ]
    }
   ],
   "source": [
    "early_stop = keras.callbacks.EarlyStopping(monitor='val_loss', patience=50)\n",
    "history = model.fit(reg_train_x, reg_train_y, epochs=500,verbose=2\n",
    "                    ,callbacks=[early_stop], shuffle=True,\n",
    "                   validation_data=(reg_test_x,reg_test_y))"
   ]
  },
  {
   "cell_type": "code",
   "execution_count": 30,
   "metadata": {
    "scrolled": false
   },
   "outputs": [
    {
     "data": {
      "text/plain": [
       "<matplotlib.legend.Legend at 0x7f6898a9c518>"
      ]
     },
     "execution_count": 30,
     "metadata": {},
     "output_type": "execute_result"
    },
    {
     "data": {
      "image/png": "[encoded data removed]",
      "text/plain": [
       "<Figure size 432x288 with 1 Axes>"
      ]
     },
     "metadata": {},
     "output_type": "display_data"
    }
   ],
   "source": [
    "plt.figure()\n",
    "plt.xlabel('Epoch')\n",
    "plt.ylabel('Mean Abs Error')\n",
    "plt.plot(history.epoch, np.array(history.history['mean_absolute_error']),label='Train Loss')\n",
    "plt.plot(history.epoch, np.array(history.history['val_mean_absolute_error']),\n",
    "label = 'Val loss')\n",
    "plt.legend()"
   ]
  },
  {
   "cell_type": "code",
   "execution_count": 31,
   "metadata": {
    "scrolled": false
   },
   "outputs": [
    {
     "data": {
      "text/plain": [
       "[<matplotlib.lines.Line2D at 0x7f68d8467a90>]"
      ]
     },
     "execution_count": 31,
     "metadata": {},
     "output_type": "execute_result"
    },
    {
     "data": {
      "image/png": "[encoded data removed]",
      "text/plain": [
       "<Figure size 432x288 with 1 Axes>"
      ]
     },
     "metadata": {},
     "output_type": "display_data"
    }
   ],
   "source": [
    "test_predictions = model.predict(reg_test_x).flatten()\n",
    "\n",
    "plt.scatter(reg_test_y, test_predictions)\n",
    "plt.xlabel('Gerçek Değer (Total Amount)')\n",
    "plt.ylabel('Tahminler (Total Amount)')\n",
    "plt.xlim(0,1)\n",
    "plt.ylim(0,1)\n",
    "plt.plot([-100, 100], [-100, 100],'r')"
   ]
  },
  {
   "cell_type": "code",
   "execution_count": null,
   "metadata": {},
   "outputs": [],
   "source": [
    "# Logistic Regression (Softmax ile)"
   ]
  },
  {
   "cell_type": "code",
   "execution_count": 116,
   "metadata": {
    "scrolled": true
   },
   "outputs": [],
   "source": [
    "# model = keras.models.Sequential()\n",
    "# model.add(keras.layers.Dense(32, input_shape=(softmax_train_x.shape[1],), activation='relu'))\n",
    "# model.add(keras.layers.Dropout(0.2))\n",
    "# model.add(keras.layers.Dense(units=1,activation='softmax'))\n",
    "\n",
    "# optimizer = tf.train.AdamOptimizer(0.001)\n",
    "# model.compile(loss='categorical_crossentropy', optimizer=optimizer, metrics=['accuracy'])"
   ]
  },
  {
   "cell_type": "code",
   "execution_count": 118,
   "metadata": {},
   "outputs": [],
   "source": [
    "# early_stop = keras.callbacks.EarlyStopping(monitor='val_loss', patience=50)\n",
    "# history = model.fit(softmax_train_x, softmax_train_y, epochs=200,verbose=2\n",
    "#                     ,callbacks=[early_stop], shuffle=True,\n",
    "#                    validation_data=(softmax_test_x,softmax_test_y))"
   ]
  }
 ],
 "metadata": {
  "kernelspec": {
   "display_name": "Python 3",
   "language": "python",
   "name": "python3"
  },
  "language_info": {
   "codemirror_mode": {
    "name": "ipython",
    "version": 3
   },
   "file_extension": ".py",
   "mimetype": "text/x-python",
   "name": "python",
   "nbconvert_exporter": "python",
   "pygments_lexer": "ipython3",
   "version": "3.6.5"
  }
 },
 "nbformat": 4,
 "nbformat_minor": 2
}
